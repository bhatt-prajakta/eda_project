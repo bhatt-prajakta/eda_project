{
 "cells": [
  {
   "cell_type": "code",
   "execution_count": 1,
   "metadata": {
    "cell_id": "515fcbad17e643a6abbf151182992985",
    "deepnote_cell_type": "code",
    "deepnote_to_be_reexecuted": false,
    "execution_millis": 8038,
    "execution_start": 1707978060689,
    "source_hash": null,
    "tags": []
   },
   "outputs": [],
   "source": [
    "%run 01_US_Public_School_Dataset.ipynb"
   ]
  },
  {
   "cell_type": "markdown",
   "metadata": {
    "cell_id": "824b4447ec7e481298944ffd573e4363",
    "deepnote_cell_type": "text-cell-h3",
    "formattedRanges": []
   },
   "source": [
    "### Create Color Palette"
   ]
  },
  {
   "cell_type": "code",
   "execution_count": 2,
   "metadata": {
    "cell_id": "7062372e15104a55840f6b38563f2099",
    "deepnote_cell_type": "code",
    "deepnote_to_be_reexecuted": false,
    "execution_millis": 186,
    "execution_start": 1707978068732,
    "source_hash": null
   },
   "outputs": [],
   "source": [
    "mich_palette = ['#2F65A7', '#FFCB05', '#00274C', '#CFC096', '#75988d', '#575294', '#989C97', '#00B2A9', '#702082', '#655A52']\n",
    "sns.set_palette(mich_palette)"
   ]
  },
  {
   "cell_type": "markdown",
   "metadata": {
    "cell_id": "591278470cdc407892623cc5c8db6edf",
    "deepnote_cell_type": "text-cell-h3",
    "formattedRanges": []
   },
   "source": [
    "### Function to calculate school retention rate"
   ]
  },
  {
   "cell_type": "code",
   "execution_count": 3,
   "metadata": {
    "cell_id": "a7ea1c7d72164a08a164158cd9c948c4",
    "deepnote_cell_type": "code",
    "deepnote_to_be_reexecuted": false,
    "execution_millis": 179,
    "execution_start": 1707978068739,
    "source_hash": null,
    "tags": []
   },
   "outputs": [],
   "source": [
    "def calculate_school_retention_percentage(df_cleaned):\n",
    "    \n",
    "    # Initialize a new column to store retention percentages\n",
    "    df_cleaned['RETENTION_PERCENTAGE'] = np.nan\n",
    "    \n",
    "    # Grade columns\n",
    "    grade_enroll_cols = ['KG', 'G01', 'G02', 'G03', 'G04', 'G05', 'G06', 'G07', 'G08', 'G09', 'G10', 'G11', 'G12']\n",
    "\n",
    "    # Iterate over each row in the DataFrame\n",
    "    for index, row in df_cleaned.iterrows():\n",
    "        total_enrollment = 0\n",
    "        total_retention = 0\n",
    "        total_grades_with_retention = 0\n",
    "        \n",
    "        for grade in grade_enroll_cols:\n",
    "            \n",
    "            # Check if retention data is available for the current grade\n",
    "            retention_male = row.get(f'TOT_RET_{grade}_M')\n",
    "            retention_female = row.get(f'TOT_RET_{grade}_F')\n",
    "            \n",
    "            # Get the enrollment count for the grade\n",
    "            enrollment = row.get(grade, 0)  \n",
    "            \n",
    "            if not pd.isnull(retention_male) and not pd.isnull(retention_female) and not pd.isnull(enrollment):\n",
    "                \n",
    "                # Both male and female retention data are available for the grade\n",
    "                total_retention += retention_male + retention_female\n",
    "                total_enrollment += enrollment\n",
    "                total_grades_with_retention += 1\n",
    "                \n",
    "        # Calculate retention percentage if there are grades with retention data\n",
    "        if total_grades_with_retention > 0:\n",
    "            retention_percentage = (total_retention / total_enrollment) * 100 if total_enrollment > 0 else 0\n",
    "            df_cleaned.at[index, 'RETENTION_PERCENTAGE'] = retention_percentage\n",
    "            \n",
    "    # Filter out rows with null retention percentages\n",
    "    df_cleaned = df_cleaned[df_cleaned['RETENTION_PERCENTAGE'].notnull()]\n",
    "            \n",
    "    return df_cleaned"
   ]
  },
  {
   "cell_type": "markdown",
   "metadata": {
    "cell_id": "4e0c97c704dc488694e7df2eb2a32b2e",
    "deepnote_cell_type": "markdown"
   },
   "source": [
    "### Function to create individual grade dataframe"
   ]
  },
  {
   "cell_type": "code",
   "execution_count": 4,
   "metadata": {
    "cell_id": "e3d1e0493b794d71904af3997a8f0573",
    "deepnote_cell_type": "code",
    "deepnote_to_be_reexecuted": false,
    "execution_millis": 168,
    "execution_start": 1707978068750,
    "source_hash": null,
    "tags": []
   },
   "outputs": [],
   "source": [
    "def create_grade_df(df_cleaned):\n",
    "    \n",
    "    # Intitalizing grade dataframe dictionary\n",
    "    grades_df_dict = {} \n",
    "    \n",
    "    # Grades for which seperate dataframe will be created\n",
    "    grades = ['KG', 'G01', 'G02', 'G03', 'G04', 'G05', 'G06', 'G07', 'G08', 'G09', 'G10', 'G11', 'G12']\n",
    "    \n",
    "    # Common Columns to include in all grades df\n",
    "    non_ret_cols = ['NCES_SCH_ID','CHARTER','MAGNET','VIRTUAL','SCHOOL_LEVEL',\n",
    "                    'STITLEI','SCHOOL_TYPE','LOCAL_CATEGORY','TOT_FREE_LUNCH',\n",
    "                    'TOT_ENROLL','TOT_TEACHERS','STU_TEA_RATIO','AMALM','AMALF','ASALM','ASALF',\n",
    "                    'BLALM','BLALF','HPALM','HPALF','HIALM','HIALF','TRALM',\n",
    "                    'TRALF','WHALM','WHALF','LATCOD','LONCOD','LEA_STATE_NAME'        \n",
    "                    ]\n",
    "    \n",
    "    # Loop creating seperate df's and storing in dictionary\n",
    "    for grade in grades:\n",
    "        \n",
    "        # Filtering grade columns\n",
    "        grade_cols = df_cleaned.filter(like=grade)\n",
    "        \n",
    "        # Combining grade cols with common cols\n",
    "        selected_cols = non_ret_cols + list(grade_cols.columns)\n",
    "        \n",
    "        # Creating copy to not change the original dataframe\n",
    "        grades_df = df_cleaned[selected_cols].copy()\n",
    "        \n",
    "        #Dropping nan values from each df\n",
    "        grades_df = grades_df.dropna(subset=grade_cols.columns)\n",
    "        \n",
    "        #Storing each grade df in a dictionary\n",
    "        grades_df_dict[grade] = grades_df\n",
    "        \n",
    "    return grades_df_dict"
   ]
  },
  {
   "cell_type": "markdown",
   "metadata": {
    "cell_id": "97bfd817e56b4ed7a8e474d825f0b8ea",
    "deepnote_cell_type": "markdown"
   },
   "source": [
    "### Function to calculate grade retention rate"
   ]
  },
  {
   "cell_type": "code",
   "execution_count": 5,
   "metadata": {
    "cell_id": "72c9cfc5c55c44cdafb1c5548aa6c3a5",
    "deepnote_cell_type": "code",
    "deepnote_to_be_reexecuted": false,
    "execution_millis": 115,
    "execution_start": 1707978068803,
    "source_hash": null,
    "tags": []
   },
   "outputs": [],
   "source": [
    "def calculate_grade_retention_rate(df):\n",
    "    grades = list(df.keys())\n",
    "\n",
    "    # Initialize combined retention rate list\n",
    "    combined_retention_rate = []\n",
    "\n",
    "    for grade, grade_df in df.items():\n",
    "        # Check for null values in retention counts and total enrollment\n",
    "        if grade_df[[f'TOT_RET_{grade}_M']].notnull().sum().sum() > 0 and \\\n",
    "           grade_df[[f'TOT_RET_{grade}_F']].notnull().sum().sum() > 0 and \\\n",
    "           grade_df[grade].notnull().sum() > 0:\n",
    "\n",
    "            # Calculate total retention counts for male and female students\n",
    "            total_male = grade_df[f'TOT_RET_{grade}_M'].sum()\n",
    "            total_female = grade_df[f'TOT_RET_{grade}_F'].sum()\n",
    "\n",
    "            # Calculate total enrollment for the grade\n",
    "            total_enrollment = grade_df[grade].sum()\n",
    "\n",
    "            # Calculate combined retention rate\n",
    "            combined_rate = ((total_male + total_female) / total_enrollment) * 100 if total_enrollment > 0 else 0\n",
    "\n",
    "            combined_retention_rate.append(combined_rate)\n",
    "    return combined_retention_rate"
   ]
  },
  {
   "cell_type": "markdown",
   "metadata": {
    "cell_id": "6d80da1d5a03483eba43097622915630",
    "deepnote_cell_type": "markdown"
   },
   "source": [
    "### Function to calculate state retention rate"
   ]
  },
  {
   "cell_type": "code",
   "execution_count": 6,
   "metadata": {
    "cell_id": "e3227e766cc041e0a6b60d8a06bacf39",
    "deepnote_cell_type": "code",
    "deepnote_to_be_reexecuted": false,
    "execution_millis": 114,
    "execution_start": 1707978068804,
    "source_hash": null,
    "tags": []
   },
   "outputs": [],
   "source": [
    "def calculate_state_retention_rate(df_cleaned):\n",
    "    # Grades values\n",
    "    grades = ['KG', 'G01', 'G02', 'G03', 'G04', 'G05', 'G06', 'G07', 'G08', 'G09', 'G10', 'G11', 'G12']\n",
    "    # Gender values\n",
    "    gender = ['M', 'F']\n",
    "    \n",
    "    # Extracting only state and grades enrollment and retention\n",
    "    state_retention_columns = ['LEA_STATE_NAME'] + [f'TOT_RET_{grade}_{g}' for grade in grades for g in gender] + ['TOT_ENROLL']\n",
    "    state_retention_df = df_cleaned[state_retention_columns]\n",
    "    \n",
    "    states = state_retention_df['LEA_STATE_NAME'].unique()\n",
    "\n",
    "    # Initialize combined retention rate list\n",
    "    combined_retention_rate = []\n",
    "\n",
    "    for state in states:\n",
    "        # Select rows corresponding to the state\n",
    "        state_df = state_retention_df[state_retention_df['LEA_STATE_NAME'] == state]\n",
    "\n",
    "        # Check for null values in retention and enrollment columns\n",
    "        if state_df.filter(like='_M').notnull().sum().sum() > 0 and state_df.filter(like='_F').notnull().sum().sum() > 0 and state_df['TOT_ENROLL'].notnull().sum() > 0:\n",
    "\n",
    "            # Calculate total retention counts for male and female students\n",
    "            total_male = state_df.filter(like='_M').sum().sum()\n",
    "            total_female = state_df.filter(like='_F').sum().sum()\n",
    "\n",
    "            # Calculate total enrollment for the state\n",
    "            total_enrollment = state_df['TOT_ENROLL'].sum()  \n",
    "\n",
    "            # Calculate combined retention rate\n",
    "            combined_rate = ((total_male + total_female) / total_enrollment) * 100 if total_enrollment > 0 else 0\n",
    "            combined_retention_rate.append(combined_rate)\n",
    "        \n",
    "    return combined_retention_rate"
   ]
  },
  {
   "cell_type": "markdown",
   "metadata": {
    "cell_id": "aa1b069169414f278ecc79816fc19392",
    "deepnote_cell_type": "markdown"
   },
   "source": [
    "### Function to calculate gender retention rate"
   ]
  },
  {
   "cell_type": "code",
   "execution_count": 7,
   "metadata": {
    "cell_id": "f26739696c3841dcb0f16adbf52b430b",
    "deepnote_cell_type": "code",
    "deepnote_to_be_reexecuted": false,
    "execution_millis": 113,
    "execution_start": 1707978068805,
    "source_hash": null,
    "tags": []
   },
   "outputs": [],
   "source": [
    "def calculate_gender_retention_rate(df_cleaned):\n",
    "    # Grades values\n",
    "    grades = ['KG', 'G01', 'G02', 'G03', 'G04', 'G05', 'G06', 'G07', 'G08', 'G09', 'G10', 'G11', 'G12']\n",
    "    \n",
    "    # Sum up enrollment for each gender across all races\n",
    "    df_cleaned['total_enroll_female'] = df_cleaned[['AMALF', 'ASALF', 'BLALF', 'HPALF', 'HIALF', 'TRALF', 'WHALF']].sum(axis=1, skipna=True)\n",
    "    df_cleaned['total_enroll_male'] = df_cleaned[['AMALM', 'ASALM', 'BLALM', 'HPALM', 'HIALM', 'TRALM', 'WHALM']].sum(axis=1, skipna=True)\n",
    "\n",
    "    # Get total retention count by gender\n",
    "    df_cleaned['total_ret_male'] = 0\n",
    "    df_cleaned['total_ret_female'] = 0\n",
    "\n",
    "    for grade in grades:\n",
    "        df_cleaned['total_ret_male'] += df_cleaned[f'TOT_RET_{grade}_M'].fillna(0)  \n",
    "        df_cleaned['total_ret_female'] += df_cleaned[f'TOT_RET_{grade}_F'].fillna(0) \n",
    "\n",
    "    # Drop rows with NaN values before calculating retention rates\n",
    "    columns_to_check = ['total_enroll_female', 'total_enroll_male', 'total_ret_female', 'total_ret_male']\n",
    "    df_cleaned.dropna(subset=columns_to_check, inplace=True)\n",
    "\n",
    "    # Use np.where to avoid division by zero\n",
    "    df_cleaned['ret_rate_female'] = np.where(df_cleaned['total_enroll_female'] > 0, \n",
    "                                             (df_cleaned['total_ret_female'] / df_cleaned['total_enroll_female']) * 100, \n",
    "                                             np.nan)  \n",
    "\n",
    "    df_cleaned['ret_rate_male'] = np.where(df_cleaned['total_enroll_male'] > 0, \n",
    "                                           (df_cleaned['total_ret_male'] / df_cleaned['total_enroll_male']) * 100, \n",
    "                                           np.nan)\n",
    "    return df_cleaned"
   ]
  },
  {
   "cell_type": "markdown",
   "metadata": {
    "cell_id": "970109b9cf5041e0b364eb3ec8920db3",
    "deepnote_cell_type": "markdown"
   },
   "source": [
    "### Function to calculate race retention rate"
   ]
  },
  {
   "cell_type": "code",
   "execution_count": 8,
   "metadata": {
    "cell_id": "49a89d4a83c74734be37f1663ae4b9e1",
    "deepnote_cell_type": "code",
    "deepnote_to_be_reexecuted": false,
    "execution_millis": 99,
    "execution_start": 1707978068819,
    "source_hash": null,
    "tags": []
   },
   "outputs": [],
   "source": [
    "def calculate_race_retention_rate(df_cleaned):\n",
    "    # Grades columns\n",
    "    grades = ['KG', 'G01', 'G02', 'G03', 'G04', 'G05', 'G06', 'G07', 'G08', 'G09', 'G10', 'G11', 'G12']\n",
    "    \n",
    "    # Race columns\n",
    "    races = ['AM', 'AS', 'BL', 'HP', 'HI', 'TR', 'WH']\n",
    "    \n",
    "    # Fill NaN values with 0 to ensure sum operations do not result in NaN\n",
    "    columns = [f'{race}ALF' for race in races] + [f'{race}ALM' for race in races] + \\\n",
    "                 [f'SCH_RET_{grade}_{race}_M' for race in races for grade in grades] + \\\n",
    "                 [f'SCH_RET_{grade}_{race}_F' for race in races for grade in grades]\n",
    "    \n",
    "    df_cleaned[columns] = df_cleaned[columns].fillna(0)\n",
    "\n",
    "    # Loop through each race to calculate its total enrollment AND its total retention count - for each school.\n",
    "\n",
    "    for race in races:\n",
    "        # Get total enrollment of each race (summing up female and male cols)\n",
    "        # Race enrollment col is in this format \"AM+ALF, AM+ALM\"\n",
    "        df_cleaned[f'total_enroll_{race}'] = df_cleaned[f'{race}ALF'] + df_cleaned[f'{race}ALM']\n",
    "\n",
    "        # Get total retention count for each race \n",
    "        df_cleaned[f'total_ret_{race}'] = 0\n",
    "        \n",
    "        # KG to G12 \n",
    "        for grade in grades: \n",
    "            # Sum up retention counts for each grade and each gender for this current race.\n",
    "            df_cleaned[f'total_ret_{race}'] += (df_cleaned[f'SCH_RET_{grade}_{race}_M'] + df_cleaned[f'SCH_RET_{grade}_{race}_F'])   \n",
    "\n",
    "    # Drop rows where any of the total enrollment or total retention columns for races have NaN values\n",
    "    columns_to_check = [f'total_enroll_{race}' for race in races] + [f'total_ret_{race}' for race in races]\n",
    "    df_cleaned.dropna(subset=columns_to_check, inplace=True)\n",
    "\n",
    "    # Calculate retention rate for each race\n",
    "    for race in races:\n",
    "        df_cleaned[f'ret_rate_{race}'] = np.where(df_cleaned[f'total_enroll_{race}'] > 0, \n",
    "                                                  (df_cleaned[f'total_ret_{race}'] / df_cleaned[f'total_enroll_{race}']) * 100, \n",
    "                                                  np.nan)\n",
    "    return df_cleaned"
   ]
  },
  {
   "cell_type": "markdown",
   "metadata": {
    "cell_id": "4d94fa689fd7405d8c13ae06ae6d2653",
    "deepnote_cell_type": "text-cell-h3",
    "formattedRanges": []
   },
   "source": [
    "### Function to calculate grade retention rate by gender"
   ]
  },
  {
   "cell_type": "code",
   "execution_count": 9,
   "metadata": {
    "cell_id": "2504cc7a6368455a8a2c9ef34ec5e30c",
    "deepnote_cell_type": "code",
    "deepnote_to_be_reexecuted": false,
    "execution_millis": 95,
    "execution_start": 1707978068823,
    "source_hash": null,
    "tags": []
   },
   "outputs": [],
   "source": [
    "def grade_retention_by_gender(df):\n",
    "    grades = list(df.keys())\n",
    "\n",
    "    # Initialize total retention percentages list for male and female students\n",
    "    total_retention_male_percent = []\n",
    "    total_retention_female_percent = []\n",
    "\n",
    "    for grade, grade_df in df.items():\n",
    "\n",
    "        # Check for null values in relevant columns for male and female students\n",
    "        if grade_df[[f'TOT_RET_{grade}_M']].notnull().sum().sum() > 0 and \\\n",
    "           grade_df[[f'TOT_RET_{grade}_F']].notnull().sum().sum() > 0 and \\\n",
    "           grade_df[['AMALM','ASALM','BLALM','HPALM','HIALM','TRALM','WHALM']].sum().sum() > 0 and \\\n",
    "           grade_df[['AMALF','ASALF','BLALF','HPALF','HIALF','TRALF','WHALF']].sum().sum() > 0:\n",
    "\n",
    "            # Calculate total retention counts for male and female students\n",
    "            total_male = grade_df[f'TOT_RET_{grade}_M'].sum()\n",
    "            total_female = grade_df[f'TOT_RET_{grade}_F'].sum()\n",
    "\n",
    "            # Calculate total enrollment for the grade\n",
    "            total_male_enroll = grade_df[['AMALM','ASALM','BLALM','HPALM','HIALM','TRALM','WHALM']].sum().sum()\n",
    "            total_female_enroll = grade_df[['AMALF','ASALF','BLALF','HPALF','HIALF','TRALF','WHALF']].sum().sum()\n",
    "\n",
    "            # Calculate retention percentages\n",
    "            percent_male = (total_male / total_male_enroll) * 100 if total_male_enroll > 0 else 0\n",
    "            percent_female = (total_female / total_female_enroll) * 100 if total_female_enroll > 0 else 0\n",
    "\n",
    "            total_retention_male_percent.append(percent_male)\n",
    "            total_retention_female_percent.append(percent_female)\n",
    "    return total_retention_male_percent, total_retention_female_percent\n"
   ]
  },
  {
   "cell_type": "markdown",
   "metadata": {
    "cell_id": "51859fe17cd4480d848b0c5e2731dd5b",
    "deepnote_cell_type": "text-cell-h3",
    "formattedRanges": []
   },
   "source": [
    "### Function to calculate grade retention rate by race"
   ]
  },
  {
   "cell_type": "code",
   "execution_count": 10,
   "metadata": {
    "cell_id": "d9db22c8250e4bd5ac8980bd4379894e",
    "deepnote_cell_type": "code",
    "deepnote_to_be_reexecuted": false,
    "execution_millis": 76,
    "execution_start": 1707978068843,
    "source_hash": null,
    "tags": []
   },
   "outputs": [],
   "source": [
    "def grade_retention_by_race(df):\n",
    "    races = ['AM', 'AS', 'BL', 'HP', 'HI', 'TR', 'WH']\n",
    "    total_retention_race_percent = {race: [] for race in races}\n",
    "\n",
    "    for grade, grade_df in df.items():\n",
    "        total_enroll_by_race_male = grade_df[[f'{race}ALM' for race in races]].sum()\n",
    "        total_enroll_by_race_female = grade_df[[f'{race}ALF' for race in races]].sum()\n",
    "        tot_ret_male = grade_df[[f'SCH_RET_{grade}_{race}_M' for race in races]].sum()\n",
    "        tot_ret_female = grade_df[[f'SCH_RET_{grade}_{race}_F' for race in races]].sum()\n",
    "\n",
    "        percent = {}\n",
    "        for race in races:\n",
    "            percent[race] = (tot_ret_male[f'SCH_RET_{grade}_{race}_M'] + tot_ret_female[f'SCH_RET_{grade}_{race}_F']) / \\\n",
    "                            (total_enroll_by_race_male[f'{race}ALM'] + total_enroll_by_race_female[f'{race}ALF']) * 100\n",
    "            total_retention_race_percent[race].append(percent[race])\n",
    "\n",
    "    return total_retention_race_percent"
   ]
  },
  {
   "cell_type": "markdown",
   "metadata": {
    "cell_id": "ddf31a2fd36140088037d4eb83363588",
    "deepnote_cell_type": "text-cell-h3",
    "formattedRanges": []
   },
   "source": [
    "### Function to remove extreme outliers"
   ]
  },
  {
   "cell_type": "code",
   "execution_count": 11,
   "metadata": {
    "cell_id": "7df2b308f9f142038acc63533a7002a3",
    "deepnote_cell_type": "code",
    "deepnote_to_be_reexecuted": false,
    "execution_millis": 75,
    "execution_start": 1707978068844,
    "source_hash": null
   },
   "outputs": [],
   "source": [
    "def remove_outliers(df):\n",
    "    # Filter columns that match the pattern 'TOT_RET_GRADEX_F' and 'TOT_RET_GRADEX_M'.\n",
    "    grade_retention_columns = [col for col in df.columns if col.startswith('TOT_RET_')]\n",
    "\n",
    "    # Calculate total retention count for each school \n",
    "    df['SCH_TOT_RET'] = df[grade_retention_columns].sum(axis=1)\n",
    "    df = df[\n",
    "        (df['TOT_ENROLL'] < 5000) & \n",
    "        (df['TOT_FREE_LUNCH'] < 4000) & \n",
    "        (df['TOT_TEACHERS'] < 300) & \n",
    "        (df['TOT_TEACHERS'] >=1 ) &\n",
    "        (df['STU_TEA_RATIO'] < 500) & \n",
    "        (df['SCH_TOT_RET'] < 750) &\n",
    "        (df['RETENTION_PERCENTAGE'] < 100)\n",
    "        ]\n",
    "\n",
    "    return df"
   ]
  },
  {
   "cell_type": "markdown",
   "metadata": {
    "cell_id": "c46a699848c04f36966099592b78d97f",
    "deepnote_cell_type": "text-cell-h3",
    "formattedRanges": []
   },
   "source": [
    "### Function to create double bar chart"
   ]
  },
  {
   "cell_type": "code",
   "execution_count": 12,
   "metadata": {
    "cell_id": "f05dc39030f540e7a71cd81b5c694002",
    "deepnote_cell_type": "code",
    "deepnote_to_be_reexecuted": false,
    "execution_millis": 66,
    "execution_start": 1707978068853,
    "source_hash": null
   },
   "outputs": [],
   "source": [
    "def create_double_barchart(data=None, var1=None, var2=None, var1_label=None, var2_label=None, xlabel=None, ylabel=None, title=None, ymax=100):\n",
    "    # Set up the bar positions\n",
    "    bar_width = 0.35\n",
    "    var1_pos = range(len(data))\n",
    "    var2_pos = [pos + bar_width for pos in var1_pos]\n",
    "\n",
    "    # Create the bar chart\n",
    "    bars1 = plt.bar(var1_pos, var1, width=bar_width, label=var1_label)\n",
    "    bars2 = plt.bar(var2_pos, var2, width=bar_width, label=var2_label)\n",
    "\n",
    "\n",
    "    # Set the x-axis labels\n",
    "    plt.xticks([pos + bar_width/2 for pos in var1_pos], data.index)\n",
    "\n",
    "    # Adding text labels to bars\n",
    "    for bar in bars1:\n",
    "        height = bar.get_height()\n",
    "        plt.text(bar.get_x() + bar.get_width() / 2, height, f'{height:.2f}%', ha='center', va='bottom', size=8)\n",
    "\n",
    "\n",
    "    # Adding text labels to bars\n",
    "    for bar in bars2:\n",
    "        height = bar.get_height()\n",
    "        plt.text(bar.get_x() + bar.get_width() / 2, height, f'{height:.2f}%', ha='center', va='bottom', size=8)\n",
    "\n",
    "    # Set labels and legend\n",
    "    plt.xlabel(xlabel)\n",
    "    plt.ylabel(ylabel)\n",
    "    plt.ylim([0,ymax])\n",
    "    plt.title(title)\n",
    "    plt.legend(loc='best')\n",
    "\n",
    "    # Show the plot\n",
    "    plt.show()\n",
    "    return plt"
   ]
  },
  {
   "cell_type": "markdown",
   "metadata": {
    "created_in_deepnote_cell": true,
    "deepnote_cell_type": "markdown"
   },
   "source": [
    "<a style='text-decoration:none;line-height:16px;display:flex;color:#5B5B62;padding:10px;justify-content:end;' href='https://deepnote.com?utm_source=created-in-deepnote-cell&projectId=edfebf59-8cf0-4b7e-b1cf-d80b21ef0191' target=\"_blank\">\n",
    "<img alt='Created in deepnote.com' style='display:inline;max-height:16px;margin:0px;margin-right:7.5px;' src='data:image/svg+xml;base64,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' > </img>\n",
    "Created in <span style='font-weight:600;margin-left:4px;'>Deepnote</span></a>"
   ]
  }
 ],
 "metadata": {
  "deepnote_execution_queue": [],
  "deepnote_notebook_id": "1895241237604716b5d121460494eb53",
  "kernelspec": {
   "display_name": "Python 3 (ipykernel)",
   "language": "python",
   "name": "python3"
  },
  "language_info": {
   "codemirror_mode": {
    "name": "ipython",
    "version": 3
   },
   "file_extension": ".py",
   "mimetype": "text/x-python",
   "name": "python",
   "nbconvert_exporter": "python",
   "pygments_lexer": "ipython3",
   "version": "3.10.11"
  }
 },
 "nbformat": 4,
 "nbformat_minor": 4
}
