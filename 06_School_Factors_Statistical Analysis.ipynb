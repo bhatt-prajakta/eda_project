{
 "cells": [
  {
   "cell_type": "markdown",
   "metadata": {
    "cell_id": "cec8ee98e8b846d880d072c252a8ea56",
    "deepnote_cell_type": "text-cell-h1",
    "formattedRanges": [
     {
      "fromCodePoint": 0,
      "marks": {
       "color": "#000000"
      },
      "toCodePoint": 16,
      "type": "marks"
     }
    ]
   },
   "source": [
    "# Import packages "
   ]
  },
  {
   "cell_type": "code",
   "execution_count": 23,
   "metadata": {
    "tags": []
   },
   "outputs": [],
   "source": [
    "# !pip install scikit_posthocs"
   ]
  },
  {
   "cell_type": "code",
   "execution_count": 3,
   "metadata": {
    "cell_id": "988dd3400d834c4e831ec310461e829d",
    "deepnote_cell_type": "code",
    "deepnote_to_be_reexecuted": false,
    "execution_millis": 823,
    "execution_start": 1708037153283,
    "source_hash": null
   },
   "outputs": [],
   "source": [
    "import pandas as pd\n",
    "from scipy import stats\n",
    "import scipy.stats as stats\n",
    "import matplotlib.pyplot as plt\n",
    "import statsmodels.stats.multicomp as multi\n",
    "from scipy.stats import mannwhitneyu\n",
    "from scipy.stats import kruskal\n",
    "import scikit_posthocs as sp"
   ]
  },
  {
   "cell_type": "markdown",
   "metadata": {
    "cell_id": "1596aab96106434da062b043745f13df",
    "deepnote_cell_type": "text-cell-h1",
    "formattedRanges": [
     {
      "fromCodePoint": 0,
      "marks": {
       "color": "#000000"
      },
      "toCodePoint": 45,
      "type": "marks"
     }
    ]
   },
   "source": [
    "# Run the data cleaning and functions notebook "
   ]
  },
  {
   "cell_type": "code",
   "execution_count": 4,
   "metadata": {
    "cell_id": "9969e62dbc54441e921f3bbe21382f60",
    "deepnote_cell_type": "code",
    "deepnote_to_be_reexecuted": false,
    "execution_millis": 4804,
    "execution_start": 1708037154112,
    "source_hash": null
   },
   "outputs": [],
   "source": [
    "%run 02_User_Defined_Functions.ipynb"
   ]
  },
  {
   "cell_type": "markdown",
   "metadata": {
    "cell_id": "e2760a4033974cf48e29996c1dfe1460",
    "deepnote_cell_type": "text-cell-h1",
    "formattedRanges": [
     {
      "fromCodePoint": 0,
      "marks": {
       "color": "#000000"
      },
      "toCodePoint": 23,
      "type": "marks"
     }
    ]
   },
   "source": [
    "# Remove extreme outliers"
   ]
  },
  {
   "cell_type": "code",
   "execution_count": 5,
   "metadata": {
    "cell_id": "cbc1c49794964784b384a0fd89f55df6",
    "deepnote_cell_type": "code",
    "deepnote_to_be_reexecuted": false,
    "execution_millis": 14727,
    "execution_start": 1708037158920,
    "source_hash": null
   },
   "outputs": [],
   "source": [
    "# Call the function that calculates each school's average retention rate\n",
    "df_cleaned = calculate_school_retention_percentage(df_cleaned)\n",
    "\n",
    "# Call function to remove extreme outliers before any statistical analysis\n",
    "\n",
    "df_cleaned = remove_outliers(df_cleaned)"
   ]
  },
  {
   "cell_type": "markdown",
   "metadata": {
    "cell_id": "aa2edb71acf642ec9f3c4d35199c2083",
    "deepnote_cell_type": "text-cell-h1",
    "formattedRanges": [
     {
      "fromCodePoint": 0,
      "marks": {
       "color": "#000000"
      },
      "toCodePoint": 22,
      "type": "marks"
     }
    ]
   },
   "source": [
    "# Student-teacher ratio "
   ]
  },
  {
   "cell_type": "markdown",
   "metadata": {
    "cell_id": "623ac70f1d72402993208cbd480bc5db",
    "deepnote_cell_type": "text-cell-p",
    "formattedRanges": [
     {
      "fromCodePoint": 0,
      "marks": {
       "color": "#000000"
      },
      "toCodePoint": 1,
      "type": "marks"
     },
     {
      "fromCodePoint": 1,
      "marks": {
       "code": true,
       "color": "#000000"
      },
      "toCodePoint": 14,
      "type": "marks"
     },
     {
      "fromCodePoint": 14,
      "marks": {
       "color": "#000000"
      },
      "toCodePoint": 52,
      "type": "marks"
     }
    ]
   },
   "source": [
    "#STU_TEA_RATIO = Student-teacher ratio of the school"
   ]
  },
  {
   "cell_type": "code",
   "execution_count": 6,
   "metadata": {
    "cell_id": "147611ff66464a8c84f786f3738f213d",
    "deepnote_cell_type": "code",
    "deepnote_to_be_reexecuted": false,
    "execution_millis": 35,
    "execution_start": 1708037173651,
    "source_hash": null
   },
   "outputs": [
    {
     "data": {
      "text/plain": [
       "(-0.00559475162316795,\n",
       " 5.549442297472561,\n",
       " 3.4746921495783436e-05,\n",
       " 0.23473899021631553,\n",
       " 0.004708367041327302)"
      ]
     },
     "execution_count": 6,
     "metadata": {},
     "output_type": "execute_result"
    }
   ],
   "source": [
    "df_cleaned_stratio = df_cleaned.dropna(subset=['STU_TEA_RATIO', 'RETENTION_PERCENTAGE'])\n",
    "\n",
    "# Set up data for x and y axis\n",
    "x = df_cleaned_stratio['STU_TEA_RATIO']  \n",
    "y = df_cleaned_stratio['RETENTION_PERCENTAGE']  # Calculated from an earlier step\n",
    "\n",
    "\n",
    "#  Perform regression \n",
    "slope, intercept, r, p, std_err = stats.linregress(x, y)\n",
    "\n",
    "(slope, intercept, r**2, p, std_err) # r square is the effect size. "
   ]
  },
  {
   "cell_type": "markdown",
   "metadata": {
    "cell_id": "fce20a751082441ca87168da14ce6e1c",
    "deepnote_cell_type": "text-cell-h1",
    "formattedRanges": [
     {
      "fromCodePoint": 0,
      "marks": {
       "color": "#000000"
      },
      "toCodePoint": 11,
      "type": "marks"
     }
    ]
   },
   "source": [
    "# Free lunch "
   ]
  },
  {
   "cell_type": "markdown",
   "metadata": {
    "cell_id": "f9ba4ced33224fdf94a4fee0f37c09b4",
    "deepnote_cell_type": "text-cell-p",
    "formattedRanges": [
     {
      "fromCodePoint": 0,
      "marks": {
       "color": "#000000"
      },
      "toCodePoint": 2,
      "type": "marks"
     },
     {
      "fromCodePoint": 2,
      "marks": {
       "code": true,
       "color": "#000000"
      },
      "toCodePoint": 16,
      "type": "marks"
     },
     {
      "fromCodePoint": 16,
      "marks": {
       "color": "#000000"
      },
      "toCodePoint": 85,
      "type": "marks"
     }
    ]
   },
   "source": [
    "# TOT_FREE_LUNCH = Total number of students eligible for free or reduced-price lunch."
   ]
  },
  {
   "cell_type": "code",
   "execution_count": 7,
   "metadata": {
    "cell_id": "d5f15ac9ea2446038f0cec58964c523b",
    "deepnote_cell_type": "code",
    "deepnote_to_be_reexecuted": false,
    "execution_millis": 25,
    "execution_start": 1708037173698,
    "source_hash": null
   },
   "outputs": [
    {
     "data": {
      "text/plain": [
       "(-0.00201177133474016,\n",
       " 6.102234271761522,\n",
       " 0.0053858504520533906,\n",
       " 1.1997705709675905e-49,\n",
       " 0.00013562320369401752)"
      ]
     },
     "execution_count": 7,
     "metadata": {},
     "output_type": "execute_result"
    }
   ],
   "source": [
    "df_cleaned_lunch = df_cleaned.dropna(subset=['TOT_FREE_LUNCH', 'RETENTION_PERCENTAGE'])\n",
    "\n",
    "x = df_cleaned_lunch['TOT_FREE_LUNCH']  \n",
    "y = df_cleaned_lunch['RETENTION_PERCENTAGE']   # Calculated from an earlier step\n",
    "\n",
    "# Perform regression using scipy\n",
    "slope, intercept, r, p, std_err = stats.linregress(x, y)\n",
    "\n",
    "(slope, intercept, r**2, p, std_err) # r square is the effect size. "
   ]
  },
  {
   "cell_type": "markdown",
   "metadata": {
    "cell_id": "3aee1cdfbd1649c2b3973da5d258ef7f",
    "deepnote_cell_type": "text-cell-h1",
    "formattedRanges": [
     {
      "fromCodePoint": 0,
      "marks": {
       "color": "#000000"
      },
      "toCodePoint": 15,
      "type": "marks"
     }
    ]
   },
   "source": [
    "# Title I status "
   ]
  },
  {
   "cell_type": "markdown",
   "metadata": {
    "cell_id": "07b29a6940214a67b7f0b3631dc68fa4",
    "deepnote_cell_type": "text-cell-p",
    "formattedRanges": [
     {
      "fromCodePoint": 0,
      "marks": {
       "color": "#000000"
      },
      "toCodePoint": 1,
      "type": "marks"
     },
     {
      "fromCodePoint": 1,
      "marks": {
       "code": true,
       "color": "#000000"
      },
      "toCodePoint": 9,
      "type": "marks"
     },
     {
      "fromCodePoint": 9,
      "marks": {
       "color": "#000000"
      },
      "toCodePoint": 56,
      "type": "marks"
     }
    ]
   },
   "source": [
    "#STITLEI = Whether the school is a title 1 school or not"
   ]
  },
  {
   "cell_type": "markdown",
   "metadata": {
    "cell_id": "4d350500ff7a4b7eb0dedf229ce25fc3",
    "deepnote_app_block_visible": false,
    "deepnote_cell_type": "text-cell-h2",
    "formattedRanges": [
     {
      "fromCodePoint": 0,
      "marks": {
       "color": "#000000"
      },
      "toCodePoint": 56,
      "type": "marks"
     }
    ],
    "is_collapsed": false
   },
   "source": [
    "## Step 1: Prepare data for title 1 and non-title 1 schools"
   ]
  },
  {
   "cell_type": "code",
   "execution_count": 8,
   "metadata": {
    "cell_id": "405fbea7d38c4bb6b8577f11bbec48df",
    "deepnote_cell_type": "code",
    "deepnote_to_be_reexecuted": false,
    "execution_millis": 128,
    "execution_start": 1708037173775,
    "source_hash": null
   },
   "outputs": [
    {
     "name": "stdout",
     "output_type": "stream",
     "text": [
      "['1-Yes' '2-No' 'N' 'M']\n",
      "Average percent retention for title I schools:  5.8929147039428385\n",
      "Average percent retention for non-title I schools:  4.402544242369076\n"
     ]
    }
   ],
   "source": [
    "print (df_cleaned ['STITLEI'].unique ())\n",
    "\n",
    "df_cleaned_title = df_cleaned.dropna(subset=['STITLEI', 'RETENTION_PERCENTAGE'])\n",
    "\n",
    "# Split into Title I and non-Title I schools. \n",
    "df_title_yes = df_cleaned_title[df_cleaned_title['STITLEI'] == '1-Yes']\n",
    "df_title_no = df_cleaned_title[df_cleaned_title['STITLEI'] == '2-No']\n",
    "\n",
    "# Calculate average percent retention for Title I and non-Title I schools\n",
    "avg_percent_ret_title_yes = df_title_yes['RETENTION_PERCENTAGE'].mean() \n",
    "avg_percent_ret_title_no = df_title_no['RETENTION_PERCENTAGE'].mean() \n",
    "\n",
    "print (\"Average percent retention for title I schools: \", avg_percent_ret_title_yes)\n",
    "print (\"Average percent retention for non-title I schools: \", avg_percent_ret_title_no)"
   ]
  },
  {
   "cell_type": "markdown",
   "metadata": {
    "cell_id": "c8181174bd0c4c5ca920efac63444898",
    "deepnote_app_block_visible": false,
    "deepnote_cell_type": "text-cell-h2",
    "formattedRanges": [
     {
      "fromCodePoint": 0,
      "marks": {
       "color": "#000000"
      },
      "toCodePoint": 45,
      "type": "marks"
     }
    ],
    "is_collapsed": false
   },
   "source": [
    "## Step 2: Check assumption_normal distribution "
   ]
  },
  {
   "cell_type": "code",
   "execution_count": 9,
   "metadata": {
    "cell_id": "8640009d70c145388ecf62a90ec90799",
    "deepnote_cell_type": "code",
    "deepnote_to_be_reexecuted": false,
    "execution_millis": 651,
    "execution_start": 1708037173810,
    "source_hash": null
   },
   "outputs": [
    {
     "data": {
      "image/png": "[encoded data removed]",
      "text/plain": [
       "<Figure size 800x1200 with 2 Axes>"
      ]
     },
     "metadata": {},
     "output_type": "display_data"
    }
   ],
   "source": [
    "fig, (ax1, ax2) = plt.subplots(2,1, figsize=(8, 12))\n",
    "\n",
    "bins = np.arange(0, 80, 3)\n",
    "min_bin = bins.min()\n",
    "max_bin = bins.max()\n",
    "\n",
    "# Plot for Title I schools\n",
    "ax1.hist(df_title_yes['RETENTION_PERCENTAGE'], bins=bins, color='blue', alpha=0.7)\n",
    "ax1.set_title('Retention Rate of Title I Schools')\n",
    "ax1.set_xlabel('Retention rate')\n",
    "ax1.set_ylabel('Number of schools')\n",
    "ax1.set_xticks(bins)  # Set x-ticks to be at the bins\n",
    "ax1.set_xlim(min_bin, max_bin)\n",
    "\n",
    "# Plot for non-Title I schools\n",
    "ax2.hist(df_title_no['RETENTION_PERCENTAGE'], bins=bins, color='orange', alpha=0.7)\n",
    "ax2.set_title('Retention Rate of Non-Title I Schools')\n",
    "ax2.set_xlabel('Retention rate')\n",
    "ax2.set_ylabel('Number of schools')\n",
    "ax2.set_xticks(bins)  # Set x-ticks to be at the bins\n",
    "ax2.set_xlim(min_bin, max_bin)\n",
    "\n",
    "plt.show()\n"
   ]
  },
  {
   "cell_type": "markdown",
   "metadata": {
    "cell_id": "7e876877304048f0a49c6e4317aca094",
    "deepnote_app_block_visible": false,
    "deepnote_cell_type": "text-cell-p",
    "formattedRanges": [
     {
      "fromCodePoint": 0,
      "marks": {
       "bold": true,
       "color": "#000000"
      },
      "toCodePoint": 38,
      "type": "marks"
     }
    ],
    "is_collapsed": false
   },
   "source": [
    "--> We don't have normal distribution."
   ]
  },
  {
   "cell_type": "markdown",
   "metadata": {
    "cell_id": "640c8c94a48d46db8a56c79509d50168",
    "deepnote_app_block_visible": false,
    "deepnote_cell_type": "text-cell-h2",
    "formattedRanges": [
     {
      "fromCodePoint": 0,
      "marks": {
       "color": "#000000"
      },
      "toCodePoint": 39,
      "type": "marks"
     }
    ],
    "is_collapsed": false
   },
   "source": [
    "## Step 2: Check assumption_equal variance"
   ]
  },
  {
   "cell_type": "code",
   "execution_count": 10,
   "metadata": {
    "cell_id": "0cf5bfb919204b89985fbde5f89c6895",
    "deepnote_cell_type": "code",
    "deepnote_to_be_reexecuted": false,
    "execution_millis": 139,
    "execution_start": 1708037174503,
    "source_hash": null
   },
   "outputs": [
    {
     "name": "stdout",
     "output_type": "stream",
     "text": [
      "Levene’s test statistic: 64.7893303847628\n",
      "p-value: 8.645320307132818e-16\n"
     ]
    }
   ],
   "source": [
    "stat, p = stats.levene(df_title_yes['RETENTION_PERCENTAGE'], df_title_no['RETENTION_PERCENTAGE'])\n",
    "print('Levene’s test statistic:', stat)\n",
    "print('p-value:', p)"
   ]
  },
  {
   "cell_type": "markdown",
   "metadata": {
    "cell_id": "2c478161e0244ffb9453ad9b74beea22",
    "deepnote_app_block_visible": false,
    "deepnote_cell_type": "text-cell-h2",
    "formattedRanges": [
     {
      "fromCodePoint": 0,
      "marks": {
       "color": "#000000"
      },
      "toCodePoint": 49,
      "type": "marks"
     }
    ],
    "is_collapsed": false
   },
   "source": [
    "## Step 3: Perform Mann-Whitney U test  (not t-test)"
   ]
  },
  {
   "cell_type": "markdown",
   "metadata": {
    "cell_id": "a6e7487d31c542bc9690356599c6ae89",
    "deepnote_app_block_visible": false,
    "deepnote_cell_type": "text-cell-p",
    "formattedRanges": [
     {
      "fromCodePoint": 62,
      "marks": {
       "bold": true
      },
      "toCodePoint": 69,
      "type": "marks"
     }
    ],
    "is_collapsed": false
   },
   "source": [
    "Because we don't have normal distribution, it is better to run U test, the non-parametric version of t-test."
   ]
  },
  {
   "cell_type": "code",
   "execution_count": 11,
   "metadata": {
    "cell_id": "c8fca8a5672b448995083509c9b46941",
    "deepnote_cell_type": "code",
    "deepnote_to_be_reexecuted": false,
    "execution_millis": 138,
    "execution_start": 1708037174504,
    "source_hash": null
   },
   "outputs": [
    {
     "name": "stdout",
     "output_type": "stream",
     "text": [
      "U statistic: 56800719.5\n",
      "P-value: 9.030546890174635e-77\n"
     ]
    }
   ],
   "source": [
    "stat, p = mannwhitneyu(df_title_yes['RETENTION_PERCENTAGE'], df_title_no['RETENTION_PERCENTAGE'])\n",
    "\n",
    "print(f\"U statistic: {stat}\")\n",
    "print(f\"P-value: {p}\")"
   ]
  },
  {
   "cell_type": "markdown",
   "metadata": {
    "cell_id": "90d2c67de9ae4741ade7b79159f49ace",
    "deepnote_cell_type": "text-cell-p",
    "formattedRanges": [
     {
      "fromCodePoint": 0,
      "marks": {
       "bold": true,
       "color": "#000000"
      },
      "toCodePoint": 82,
      "type": "marks"
     }
    ]
   },
   "source": [
    "--> Title 1 and non-title 1 schools differ significantly in their retention rates."
   ]
  },
  {
   "cell_type": "markdown",
   "metadata": {
    "cell_id": "18a7e4a9958e462995b60296c3d5acca",
    "deepnote_cell_type": "text-cell-h1",
    "formattedRanges": [
     {
      "fromCodePoint": 0,
      "marks": {
       "color": "#000000"
      },
      "toCodePoint": 41,
      "type": "marks"
     }
    ]
   },
   "source": [
    "# School level (Elementary, Middle, High ) "
   ]
  },
  {
   "cell_type": "markdown",
   "metadata": {
    "cell_id": "722241fa11714b14b5d641bea5fb085a",
    "deepnote_app_block_visible": false,
    "deepnote_cell_type": "text-cell-h2",
    "formattedRanges": [
     {
      "fromCodePoint": 0,
      "marks": {
       "color": "#000000"
      },
      "toCodePoint": 41,
      "type": "marks"
     }
    ],
    "is_collapsed": false
   },
   "source": [
    "## Step 1: Prepare data for the three groups"
   ]
  },
  {
   "cell_type": "code",
   "execution_count": 12,
   "metadata": {
    "cell_id": "33991553d94847c98736a0774bcfe03c",
    "deepnote_cell_type": "code",
    "deepnote_to_be_reexecuted": false,
    "execution_millis": 130,
    "execution_start": 1708037174512,
    "source_hash": null
   },
   "outputs": [
    {
     "name": "stdout",
     "output_type": "stream",
     "text": [
      "Average percent retention for elementary schools: 4.434302362728578\n",
      "Average percent retention for middle schools: 2.3021762137086195\n",
      "Average percent retention for high schools: 9.628361530439802\n"
     ]
    }
   ],
   "source": [
    "df_cleaned_level = df_cleaned.dropna(subset=['SCHOOL_LEVEL','RETENTION_PERCENTAGE'])\n",
    "\n",
    "# Split data into elementary, middle, and high schools\n",
    "df_elementary = df_cleaned_level[df_cleaned_level['SCHOOL_LEVEL'] == 'Elementary']\n",
    "df_middle = df_cleaned_level[df_cleaned_level['SCHOOL_LEVEL'] == 'Middle']\n",
    "df_high = df_cleaned_level[df_cleaned_level['SCHOOL_LEVEL'] == 'High']\n",
    "\n",
    "# Calculate average percent retention for each school level \n",
    "school_levels_dic = {\n",
    "    'Elementary': df_elementary,\n",
    "    'Middle': df_middle,\n",
    "    'High': df_high\n",
    "}\n",
    "\n",
    "# Print mean scores just to confirm \n",
    "for level, df in school_levels_dic.items(): \n",
    "    avg_percent_ret = df['RETENTION_PERCENTAGE'].mean()\n",
    "    print(f\"Average percent retention for {level.lower()} schools: {avg_percent_ret}\") # lower case \n"
   ]
  },
  {
   "cell_type": "markdown",
   "metadata": {
    "cell_id": "f3eb3c41a50e4c289197a1e0b1aba3ba",
    "deepnote_app_block_visible": false,
    "deepnote_cell_type": "text-cell-h2",
    "formattedRanges": [
     {
      "fromCodePoint": 0,
      "marks": {
       "color": "#000000"
      },
      "toCodePoint": 45,
      "type": "marks"
     }
    ],
    "is_collapsed": false
   },
   "source": [
    "##  Step 2: Check assumption_normal distribution"
   ]
  },
  {
   "cell_type": "code",
   "execution_count": 13,
   "metadata": {
    "cell_id": "c5b75fcee9c643eca69f2e553130949e",
    "deepnote_cell_type": "code",
    "deepnote_to_be_reexecuted": false,
    "execution_millis": 324,
    "execution_start": 1708037174655,
    "source_hash": null
   },
   "outputs": [
    {
     "data": {
      "image/png": "[encoded data removed]",
      "text/plain": [
       "<Figure size 1200x800 with 1 Axes>"
      ]
     },
     "metadata": {},
     "output_type": "display_data"
    }
   ],
   "source": [
    "# Set x axis value ranges with 5 intervals \n",
    "bins = list(range(0, 101, 5))  \n",
    "\n",
    "def plot_histograms (school_levels_dic, bins):\n",
    "    plt.figure(figsize=(12, 8))\n",
    "    for level, df in school_levels_dic.items():\n",
    "        plt.hist(df['RETENTION_PERCENTAGE'], bins=bins, alpha=0.3, label=level)\n",
    "    plt.title('Retention Percentage Distribution by School Level')\n",
    "    plt.xlabel('Retention Percentage')\n",
    "    plt.ylabel('Frequency')\n",
    "    plt.legend()\n",
    "    plt.xticks(bins)\n",
    "    plt.show()\n",
    "\n",
    "# Plot histograms for each school level with custom bins\n",
    "plot_histograms(school_levels_dic, bins)"
   ]
  },
  {
   "cell_type": "markdown",
   "metadata": {
    "cell_id": "3d5b3b34609a42458681a396ae0e1f79",
    "deepnote_cell_type": "text-cell-p",
    "formattedRanges": [
     {
      "fromCodePoint": 0,
      "marks": {
       "bold": true,
       "color": "#000000"
      },
      "toCodePoint": 45,
      "type": "marks"
     }
    ]
   },
   "source": [
    "--> Data is not really normally distributed. "
   ]
  },
  {
   "cell_type": "markdown",
   "metadata": {
    "cell_id": "8dd1c198c5d94102bc4045238eb9aa5d",
    "deepnote_app_block_visible": false,
    "deepnote_cell_type": "text-cell-h2",
    "formattedRanges": [
     {
      "fromCodePoint": 0,
      "marks": {
       "color": "#000000"
      },
      "toCodePoint": 41,
      "type": "marks"
     }
    ],
    "is_collapsed": false
   },
   "source": [
    "## Step 2: Check assumption_ equal variance "
   ]
  },
  {
   "cell_type": "code",
   "execution_count": 14,
   "metadata": {
    "cell_id": "410df45bacbe42f9993b9e33e2ae72ba",
    "deepnote_cell_type": "code",
    "deepnote_to_be_reexecuted": false,
    "execution_millis": 132,
    "execution_start": 1708037175011,
    "source_hash": null
   },
   "outputs": [
    {
     "name": "stdout",
     "output_type": "stream",
     "text": [
      "Levene’s test statistic: 1762.6208383576268\n",
      "Levene’s test p-value: 0.0\n"
     ]
    }
   ],
   "source": [
    "stat, p = stats.levene(\n",
    "    df_elementary['RETENTION_PERCENTAGE'],\n",
    "    df_middle['RETENTION_PERCENTAGE'],\n",
    "    df_high['RETENTION_PERCENTAGE']\n",
    "    )\n",
    "\n",
    "print('Levene’s test statistic:', stat)\n",
    "print('Levene’s test p-value:', p)"
   ]
  },
  {
   "cell_type": "markdown",
   "metadata": {
    "cell_id": "422265910ba440888134d90127047786",
    "deepnote_app_block_visible": false,
    "deepnote_cell_type": "text-cell-p",
    "formattedRanges": [
     {
      "fromCodePoint": 0,
      "marks": {
       "color": "#000000"
      },
      "toCodePoint": 1,
      "type": "marks"
     },
     {
      "fromCodePoint": 1,
      "marks": {
       "bold": true,
       "color": "#000000"
      },
      "toCodePoint": 38,
      "type": "marks"
     }
    ],
    "is_collapsed": false
   },
   "source": [
    "-> P<.05. Do not have equal variances."
   ]
  },
  {
   "cell_type": "markdown",
   "metadata": {
    "cell_id": "d36368073dae48f3b3347ce814ee85b5",
    "deepnote_app_block_visible": false,
    "deepnote_cell_type": "text-cell-h2",
    "formattedRanges": [
     {
      "fromCodePoint": 0,
      "marks": {
       "color": "#000000"
      },
      "toCodePoint": 38,
      "type": "marks"
     }
    ],
    "is_collapsed": false
   },
   "source": [
    "## Step 3: Conduct Kruskal-Wallis H Test "
   ]
  },
  {
   "cell_type": "markdown",
   "metadata": {
    "cell_id": "4ea43fac46db4b858a88cc42105a8fc4",
    "deepnote_cell_type": "text-cell-p",
    "formattedRanges": [
     {
      "fromCodePoint": 121,
      "marks": {
       "bold": true
      },
      "toCodePoint": 122,
      "type": "marks"
     }
    ]
   },
   "source": [
    "Because we don't have normal distribution or equal variance, run Krusaka Wallis H test (non-parametric version of ANOVA). "
   ]
  },
  {
   "cell_type": "code",
   "execution_count": 15,
   "metadata": {
    "cell_id": "b11374ae068643e1b93326e765d66338",
    "deepnote_cell_type": "code",
    "deepnote_to_be_reexecuted": false,
    "execution_millis": 131,
    "execution_start": 1708037175012,
    "source_hash": null
   },
   "outputs": [
    {
     "name": "stdout",
     "output_type": "stream",
     "text": [
      "Kruskal-Wallis H Test statistic: 5613.090711674902\n",
      "P-value: 0.0\n"
     ]
    }
   ],
   "source": [
    "stat, p = kruskal(\n",
    "    df_elementary['RETENTION_PERCENTAGE'],\n",
    "    df_middle['RETENTION_PERCENTAGE'],\n",
    "    df_high['RETENTION_PERCENTAGE']\n",
    "    )\n",
    "\n",
    "print(f\"Kruskal-Wallis H Test statistic: {stat}\")\n",
    "print(f\"P-value: {p}\")"
   ]
  },
  {
   "cell_type": "markdown",
   "metadata": {
    "cell_id": "7a518b940cc44b7cb0eda89ed0db96e5",
    "deepnote_app_block_visible": false,
    "deepnote_cell_type": "text-cell-h3",
    "formattedRanges": [
     {
      "fromCodePoint": 0,
      "marks": {
       "color": "#000000"
      },
      "toCodePoint": 45,
      "type": "marks"
     }
    ],
    "is_collapsed": false
   },
   "source": [
    "### Conduct post hoc Dunn's test: compare MEDIAN "
   ]
  },
  {
   "cell_type": "code",
   "execution_count": 16,
   "metadata": {
    "cell_id": "27b8dbd0a77945f5b8d7f883ca4f2aea",
    "deepnote_cell_type": "code",
    "deepnote_to_be_reexecuted": false,
    "execution_millis": 130,
    "execution_start": 1708037175013,
    "source_hash": null
   },
   "outputs": [
    {
     "name": "stdout",
     "output_type": "stream",
     "text": [
      "Median for elementary schools: 2.941176470588235\n",
      "Median for middle schools: 1.0638297872340425\n",
      "Median for high schools: 5.08130081300813\n"
     ]
    }
   ],
   "source": [
    "# Get the median score of the three groups\n",
    "median_percent_ret_elementary = df_elementary['RETENTION_PERCENTAGE'].median()\n",
    "median_percent_ret_middle = df_middle['RETENTION_PERCENTAGE'].median()\n",
    "median_percent_ret_high = df_high['RETENTION_PERCENTAGE'].median()\n",
    "\n",
    "print(f\"Median for elementary schools: {median_percent_ret_elementary}\")\n",
    "print(f\"Median for middle schools: {median_percent_ret_middle}\")\n",
    "print(f\"Median for high schools: {median_percent_ret_high}\")\n"
   ]
  },
  {
   "cell_type": "code",
   "execution_count": 17,
   "metadata": {
    "cell_id": "81283e08fd524416ac443d9395a4df0c",
    "deepnote_cell_type": "code",
    "deepnote_to_be_reexecuted": false,
    "execution_millis": 122,
    "execution_start": 1708037175021,
    "source_hash": null
   },
   "outputs": [
    {
     "name": "stdout",
     "output_type": "stream",
     "text": [
      "               1    2              3\n",
      "1   1.000000e+00  0.0  2.650989e-309\n",
      "2   0.000000e+00  1.0   0.000000e+00\n",
      "3  2.650989e-309  0.0   1.000000e+00\n"
     ]
    }
   ],
   "source": [
    "# Conduct Dunn's test \n",
    "data = [\n",
    "    df_elementary['RETENTION_PERCENTAGE'],\n",
    "    df_middle['RETENTION_PERCENTAGE'],\n",
    "    df_high['RETENTION_PERCENTAGE']\n",
    "    ]\n",
    "\n",
    "p_values = sp.posthoc_dunn(data, p_adjust='bonferroni')\n",
    "\n",
    "print(p_values)"
   ]
  },
  {
   "cell_type": "markdown",
   "metadata": {
    "cell_id": "dfc3e46c7e7749c3b7978ecf38d9473d",
    "deepnote_cell_type": "text-cell-p",
    "formattedRanges": [
     {
      "fromCodePoint": 0,
      "marks": {
       "bold": true,
       "color": "#000000"
      },
      "toCodePoint": 115,
      "type": "marks"
     }
    ]
   },
   "source": [
    "-> Elementary, middle, and high schools differ significantly from each other in their median retention rate (p<.05)"
   ]
  },
  {
   "cell_type": "markdown",
   "metadata": {
    "cell_id": "90e94b785d9f4c7087004d9c91fb566b",
    "deepnote_cell_type": "text-cell-p",
    "formattedRanges": [
     {
      "fromCodePoint": 0,
      "marks": {
       "bold": true,
       "color": "#000000"
      },
      "toCodePoint": 0,
      "type": "marks"
     }
    ]
   },
   "source": []
  },
  {
   "cell_type": "markdown",
   "metadata": {
    "cell_id": "6ee9197baeb44e86a3d60ee429f42498",
    "deepnote_cell_type": "text-cell-h1",
    "formattedRanges": [
     {
      "fromCodePoint": 0,
      "marks": {
       "color": "#000000"
      },
      "toCodePoint": 46,
      "type": "marks"
     }
    ]
   },
   "source": [
    "# Locale category (city, suburban, rural, etc.) "
   ]
  },
  {
   "cell_type": "markdown",
   "metadata": {
    "cell_id": "148e52d3ef7f42f294717c10f5dc5ad2",
    "deepnote_app_block_visible": false,
    "deepnote_cell_type": "text-cell-h2",
    "formattedRanges": [
     {
      "fromCodePoint": 0,
      "marks": {
       "color": "#000000"
      },
      "toCodePoint": 16,
      "type": "marks"
     },
     {
      "fromCodePoint": 16,
      "marks": {
       "bold": true,
       "color": "#000000"
      },
      "toCodePoint": 17,
      "type": "marks"
     },
     {
      "fromCodePoint": 17,
      "marks": {
       "color": "#000000"
      },
      "toCodePoint": 29,
      "type": "marks"
     }
    ],
    "is_collapsed": false
   },
   "source": [
    "## Step 1: Prepare 4 dataframes "
   ]
  },
  {
   "cell_type": "code",
   "execution_count": 18,
   "metadata": {
    "cell_id": "77c3a2d3049d484da54b5be759f41ddb",
    "deepnote_cell_type": "code",
    "deepnote_to_be_reexecuted": false,
    "execution_millis": 52,
    "execution_start": 1708037175131,
    "source_hash": null
   },
   "outputs": [
    {
     "name": "stdout",
     "output_type": "stream",
     "text": [
      "Average percent retention for city schools: 6.054132457970138\n",
      "Average percent retention for rural schools: 5.977649119364936\n",
      "Average percent retention for suburb schools: 4.517558527276483\n",
      "Average percent retention for town schools: 5.467555355831212\n"
     ]
    }
   ],
   "source": [
    "df_cleaned_local = df_cleaned.dropna(subset=['LOCAL_CATEGORY', 'RETENTION_PERCENTAGE'])\n",
    "\n",
    "# Split the dataframe into rural, town, suburb, and city schools\n",
    "df_city= df_cleaned_local[df_cleaned_local['LOCAL_CATEGORY'] == 'City']\n",
    "df_rural = df_cleaned_local[df_cleaned_local['LOCAL_CATEGORY'] == 'Rural']\n",
    "df_suburb= df_cleaned_local[df_cleaned_local['LOCAL_CATEGORY'] == 'Suburb']\n",
    "df_town = df_cleaned_local[df_cleaned_local['LOCAL_CATEGORY'] == 'Town']\n",
    "\n",
    "# Calculate average percent retention for each school level.\n",
    "local_dic = {\n",
    "    'City': df_city,\n",
    "    'Rural': df_rural, \n",
    "    'Suburb': df_suburb,\n",
    "    'Town': df_town\n",
    "    }\n",
    "\n",
    "# Loop through each item in the dic and get aveg ret rate  (just to confirm)\n",
    "for local, df in local_dic.items(): \n",
    "    avg_percent_ret = df['RETENTION_PERCENTAGE'].mean()\n",
    "    print(f\"Average percent retention for {local.lower()} schools: {avg_percent_ret}\") # lower case "
   ]
  },
  {
   "cell_type": "markdown",
   "metadata": {
    "cell_id": "6a0e22bd235c46db8152ca9ea09277ed",
    "deepnote_app_block_visible": false,
    "deepnote_cell_type": "text-cell-h2",
    "formattedRanges": [],
    "is_collapsed": false
   },
   "source": [
    "## Step 2: Check assumption_equal variance"
   ]
  },
  {
   "cell_type": "code",
   "execution_count": 19,
   "metadata": {
    "cell_id": "f93265de2f3a442e87593733067a392b",
    "deepnote_cell_type": "code",
    "deepnote_to_be_reexecuted": false,
    "execution_millis": 88,
    "execution_start": 1708037175210,
    "source_hash": null
   },
   "outputs": [
    {
     "name": "stdout",
     "output_type": "stream",
     "text": [
      "Levene’s test statistic: 56.474148431691546\n",
      "Levene’s test p-value: 2.0180982659700348e-36\n"
     ]
    }
   ],
   "source": [
    "stat, p = stats.levene(\n",
    "    df_city['RETENTION_PERCENTAGE'], \n",
    "    df_rural['RETENTION_PERCENTAGE'], \n",
    "    df_suburb['RETENTION_PERCENTAGE'],\n",
    "    df_town['RETENTION_PERCENTAGE']\n",
    "    )\n",
    "\n",
    "print('Levene’s test statistic:', stat)\n",
    "print('Levene’s test p-value:', p)"
   ]
  },
  {
   "cell_type": "markdown",
   "metadata": {
    "cell_id": "56a7c27c6061419cb27f0461918f0763",
    "deepnote_app_block_visible": false,
    "deepnote_cell_type": "text-cell-h2",
    "formattedRanges": [
     {
      "fromCodePoint": 0,
      "marks": {
       "color": "#000000"
      },
      "toCodePoint": 38,
      "type": "marks"
     }
    ],
    "is_collapsed": false
   },
   "source": [
    "## Step 2: Conduct Kruskal-Wallis H Test "
   ]
  },
  {
   "cell_type": "markdown",
   "metadata": {
    "cell_id": "fad1107115ce42fb827e638d93f881b9",
    "deepnote_app_block_visible": false,
    "deepnote_cell_type": "text-cell-p",
    "formattedRanges": [
     {
      "fromCodePoint": 0,
      "marks": {
       "color": "#000000"
      },
      "toCodePoint": 65,
      "type": "marks"
     }
    ],
    "is_collapsed": false
   },
   "source": [
    "Since we don't have equal variance, run H test rather than ANOVA."
   ]
  },
  {
   "cell_type": "code",
   "execution_count": 20,
   "metadata": {
    "allow_embed": false,
    "cell_id": "ddcaab8c5f1d48f3bbc119a040d6896f",
    "deepnote_cell_type": "code",
    "deepnote_to_be_reexecuted": false,
    "execution_millis": 87,
    "execution_start": 1708037175211,
    "source_hash": null
   },
   "outputs": [
    {
     "name": "stdout",
     "output_type": "stream",
     "text": [
      "Kruskal-Wallis H Test statistic: 1460.4571476857832\n",
      "P-value: 0.0\n"
     ]
    }
   ],
   "source": [
    "stat, p = kruskal(\n",
    "    df_city['RETENTION_PERCENTAGE'],\n",
    "    df_town['RETENTION_PERCENTAGE'],\n",
    "    df_suburb['RETENTION_PERCENTAGE'],\n",
    "    df_rural['RETENTION_PERCENTAGE']\n",
    "    )\n",
    "\n",
    "print(f\"Kruskal-Wallis H Test statistic: {stat}\")\n",
    "print(f\"P-value: {p}\")"
   ]
  },
  {
   "cell_type": "markdown",
   "metadata": {
    "cell_id": "c510017dafaf4891bf3b04806c161299",
    "deepnote_cell_type": "text-cell-h3",
    "formattedRanges": [
     {
      "fromCodePoint": 0,
      "marks": {
       "color": "#000000"
      },
      "toCodePoint": 45,
      "type": "marks"
     }
    ]
   },
   "source": [
    "### Conduct post hoc Dunn's test: compare MEDIAN "
   ]
  },
  {
   "cell_type": "markdown",
   "metadata": {
    "cell_id": "e45eaaa9c13441d09f17456c57273604",
    "deepnote_cell_type": "text-cell-p",
    "formattedRanges": [
     {
      "fromCodePoint": 0,
      "marks": {
       "color": "#000000"
      },
      "toCodePoint": 85,
      "type": "marks"
     }
    ]
   },
   "source": [
    "Since they differ significantly, we do follow-up analysis to see which groups differ."
   ]
  },
  {
   "cell_type": "code",
   "execution_count": 21,
   "metadata": {
    "allow_embed": false,
    "cell_id": "032b8601ccf6461a99d48fb61ff7142e",
    "deepnote_cell_type": "code",
    "deepnote_to_be_reexecuted": false,
    "execution_millis": 86,
    "execution_start": 1708037175212,
    "source_hash": null
   },
   "outputs": [
    {
     "name": "stdout",
     "output_type": "stream",
     "text": [
      "Median for city schools: 2.7777777777777777\n",
      "Median for rural schools: 4.166666666666666\n",
      "Median for suburb schools: 2.312138728323699\n",
      "Median for town schools: 3.198837209302326\n"
     ]
    }
   ],
   "source": [
    "# Get the median score of the four groups\n",
    "median_percent_ret_city = df_city['RETENTION_PERCENTAGE'].median()\n",
    "median_percent_ret_rural = df_rural['RETENTION_PERCENTAGE'].median()\n",
    "median_percent_ret_suburb = df_suburb['RETENTION_PERCENTAGE'].median()\n",
    "median_percent_ret_town = df_town['RETENTION_PERCENTAGE'].median()\n",
    "\n",
    "print(f\"Median for city schools: {median_percent_ret_city}\")\n",
    "print(f\"Median for rural schools: {median_percent_ret_rural}\")\n",
    "print(f\"Median for suburb schools: {median_percent_ret_suburb}\")\n",
    "print(f\"Median for town schools: {median_percent_ret_town}\")\n"
   ]
  },
  {
   "cell_type": "code",
   "execution_count": 22,
   "metadata": {
    "cell_id": "9acf6c9a5cc84c3a931a760e641b5238",
    "deepnote_cell_type": "code",
    "deepnote_to_be_reexecuted": false,
    "execution_millis": 49,
    "execution_start": 1708037175269,
    "source_hash": null
   },
   "outputs": [
    {
     "name": "stdout",
     "output_type": "stream",
     "text": [
      "              1             2             3             4\n",
      "1  1.000000e+00  4.239812e-98  1.183132e-53  1.850767e-04\n",
      "2  4.239812e-98  1.000000e+00  0.000000e+00  9.028447e-38\n",
      "3  1.183132e-53  0.000000e+00  1.000000e+00  7.702821e-63\n",
      "4  1.850767e-04  9.028447e-38  7.702821e-63  1.000000e+00\n"
     ]
    }
   ],
   "source": [
    "# Conduct Dunn's test\n",
    "data = [\n",
    "    df_city['RETENTION_PERCENTAGE'],\n",
    "    df_rural['RETENTION_PERCENTAGE'],\n",
    "    df_suburb['RETENTION_PERCENTAGE'],\n",
    "    df_town['RETENTION_PERCENTAGE']\n",
    "    ]\n",
    "p_values = sp.posthoc_dunn(data, p_adjust='bonferroni')\n",
    "\n",
    "print(p_values)"
   ]
  },
  {
   "cell_type": "markdown",
   "metadata": {
    "cell_id": "7743a3f8796e4875b4e9dcdbda174d44",
    "deepnote_cell_type": "text-cell-p",
    "formattedRanges": [
     {
      "fromCodePoint": 0,
      "marks": {
       "bold": true
      },
      "toCodePoint": 35,
      "type": "marks"
     }
    ]
   },
   "source": [
    "--> All pairs differ significantly."
   ]
  },
  {
   "cell_type": "markdown",
   "metadata": {
    "created_in_deepnote_cell": true,
    "deepnote_cell_type": "markdown"
   },
   "source": [
    "<a style='text-decoration:none;line-height:16px;display:flex;color:#5B5B62;padding:10px;justify-content:end;' href='https://deepnote.com?utm_source=created-in-deepnote-cell&projectId=edfebf59-8cf0-4b7e-b1cf-d80b21ef0191' target=\"_blank\">\n",
    "<img alt='Created in deepnote.com' style='display:inline;max-height:16px;margin:0px;margin-right:7.5px;' src='data:image/svg+xml;base64,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' > </img>\n",
    "Created in <span style='font-weight:600;margin-left:4px;'>Deepnote</span></a>"
   ]
  }
 ],
 "metadata": {
  "deepnote_execution_queue": [],
  "deepnote_notebook_id": "a3fafa5807f94033826ec99cf54b4321",
  "kernelspec": {
   "display_name": "Python 3 (ipykernel)",
   "language": "python",
   "name": "python3"
  },
  "language_info": {
   "codemirror_mode": {
    "name": "ipython",
    "version": 3
   },
   "file_extension": ".py",
   "mimetype": "text/x-python",
   "name": "python",
   "nbconvert_exporter": "python",
   "pygments_lexer": "ipython3",
   "version": "3.10.11"
  }
 },
 "nbformat": 4,
 "nbformat_minor": 4
}
