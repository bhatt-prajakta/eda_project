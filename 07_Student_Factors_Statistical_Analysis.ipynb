{
 "cells": [
  {
   "cell_type": "markdown",
   "metadata": {
    "cell_id": "165801803233485e8871ea327e064ed0",
    "deepnote_cell_type": "text-cell-h1",
    "formattedRanges": [
     {
      "fromCodePoint": 0,
      "marks": {
       "color": "#000000"
      },
      "toCodePoint": 45,
      "type": "marks"
     }
    ]
   },
   "source": [
    "# Run the data cleaning and functions notebook "
   ]
  },
  {
   "cell_type": "code",
   "execution_count": 18,
   "metadata": {
    "cell_id": "e4b5d6ef9de644dab37033e118f6d476",
    "deepnote_cell_type": "code",
    "deepnote_to_be_reexecuted": false,
    "execution_millis": 5188,
    "execution_start": 1708037702923,
    "source_hash": null
   },
   "outputs": [],
   "source": [
    "%run 02_User_Defined_Functions.ipynb\n",
    "\n",
    "\n",
    "# import libraries in case needed\n",
    "import pandas as pd\n",
    "from scipy import stats\n",
    "import scipy.stats as stats\n",
    "import matplotlib.pyplot as plt\n",
    "import statsmodels.stats.multicomp as multi\n",
    "from scipy.stats import levene\n",
    "from scipy.stats import mannwhitneyu\n",
    "from scipy.stats import f_oneway\n",
    "import scikit_posthocs as sp\n"
   ]
  },
  {
   "cell_type": "markdown",
   "metadata": {
    "cell_id": "1e614449dc0643b88901bcd1cfcd1126",
    "deepnote_cell_type": "text-cell-h1",
    "formattedRanges": [
     {
      "fromCodePoint": 0,
      "marks": {
       "color": "#000000"
      },
      "toCodePoint": 41,
      "type": "marks"
     }
    ]
   },
   "source": [
    "# Call functions to remove extreme outliers"
   ]
  },
  {
   "cell_type": "code",
   "execution_count": 19,
   "metadata": {
    "cell_id": "b30aa651077f4288b607aaef4948e054",
    "deepnote_cell_type": "code",
    "deepnote_to_be_reexecuted": false,
    "execution_millis": 11911,
    "execution_start": 1708037708131,
    "source_hash": null
   },
   "outputs": [],
   "source": [
    "# Call the function that calculates each school's average retention rate\n",
    "df_cleaned = calculate_school_retention_percentage(df_cleaned)\n",
    "\n",
    "# Call function to remove extreme outliers before any statistical analysis\n",
    "df_cleaned = remove_outliers(df_cleaned)"
   ]
  },
  {
   "cell_type": "code",
   "execution_count": 20,
   "metadata": {
    "cell_id": "f7876c153c104a7abc0cdf6aaf6bb503",
    "deepnote_cell_type": "code",
    "deepnote_to_be_reexecuted": false,
    "execution_millis": 61,
    "execution_start": 1708037720047,
    "source_hash": null
   },
   "outputs": [],
   "source": [
    "#df_cleaned.columns.tolist()"
   ]
  },
  {
   "cell_type": "markdown",
   "metadata": {
    "cell_id": "c18f489462bd4bdcb52b6b513e442c4e",
    "deepnote_cell_type": "text-cell-h1",
    "formattedRanges": [
     {
      "fromCodePoint": 0,
      "marks": {
       "color": "#000000"
      },
      "toCodePoint": 24,
      "type": "marks"
     }
    ]
   },
   "source": [
    "# Gender (Female vs. Male)"
   ]
  },
  {
   "cell_type": "markdown",
   "metadata": {
    "cell_id": "22ec95407f9141c8a9e8d0b24e018a67",
    "deepnote_app_block_visible": false,
    "deepnote_cell_type": "text-cell-h2",
    "formattedRanges": [
     {
      "fromCodePoint": 0,
      "marks": {
       "color": "#000000"
      },
      "toCodePoint": 22,
      "type": "marks"
     }
    ],
    "is_collapsed": false
   },
   "source": [
    "## Understand the format "
   ]
  },
  {
   "cell_type": "markdown",
   "metadata": {
    "cell_id": "8779918046b34eeaa0e3c5dce6c2c097",
    "deepnote_app_block_visible": false,
    "deepnote_cell_type": "text-cell-p",
    "formattedRanges": [
     {
      "fromCodePoint": 0,
      "marks": {
       "color": "#000000"
      },
      "toCodePoint": 26,
      "type": "marks"
     }
    ],
    "is_collapsed": false
   },
   "source": [
    "Pasted here as a reminder."
   ]
  },
  {
   "cell_type": "code",
   "execution_count": 21,
   "metadata": {
    "cell_id": "e4e813f6c53447819bea28a91f8b27c1",
    "deepnote_cell_type": "code",
    "deepnote_to_be_reexecuted": false,
    "execution_millis": 67,
    "execution_start": 1708037720051,
    "source_hash": null
   },
   "outputs": [],
   "source": [
    "# Each school's enrollment broken down by grade are in these cols.\n",
    "grades = ['KG', 'G01', 'G02', 'G03', 'G04', 'G05', 'G06', 'G07', 'G08', 'G09', 'G10', 'G11', 'G12']\n",
    "\n",
    "# These are the 7 racial groups in the data.\n",
    "races = ['AM', 'AS', 'BL', 'HP', 'HI', 'TR', 'WH']\n",
    "\n",
    "# Gender categories. It has the letter F or M in the enrollment and retention count cols. \n",
    "genders = ['F','M']\n",
    "\n",
    "# Each school's enrollment broken down by race and gender are in these cols. \n",
    "enrollment_cols = ['AMALM','AMALF','ASALM','ASALF','BLALM','BLALF','HPALM','HPALF','HIALM','HIALF',\n",
    "'TRALM','TRALF','WHALM','WHALF']\n",
    "# Col name ormat: race+AL+F (for female) or race+AL+M (for male)\n",
    "\n",
    "\n",
    "# Each school's retention count broken down by grade, race, and gender in these cols:\n",
    "#'SCH_RET_KG_HI_M','SCH_RET_KG_HI_F','SCH_RET_KG_AM_M','SCH_RET_KG_AM_F', ...'SCH_RET_G01_AM_F'...\n",
    "# Col name format: SCH_RET_grade_race_gender"
   ]
  },
  {
   "cell_type": "markdown",
   "metadata": {
    "cell_id": "f35001f027a54ad6b402a2ec638844ea",
    "deepnote_cell_type": "text-cell-h2",
    "formattedRanges": [
     {
      "fromCodePoint": 0,
      "marks": {
       "color": "#000000"
      },
      "toCodePoint": 49,
      "type": "marks"
     }
    ]
   },
   "source": [
    "## Step 1: Calculate female and male retention rate "
   ]
  },
  {
   "cell_type": "code",
   "execution_count": 22,
   "metadata": {
    "cell_id": "004a900794604ce2ba23106406da728b",
    "deepnote_cell_type": "code",
    "deepnote_to_be_reexecuted": false,
    "execution_millis": 103,
    "execution_start": 1708037720075,
    "source_hash": null
   },
   "outputs": [
    {
     "name": "stdout",
     "output_type": "stream",
     "text": [
      "2.8581509697755854\n",
      "3.552411454787485\n"
     ]
    }
   ],
   "source": [
    "# Call function that calculate gender retention rates \n",
    "df_cleaned=calculate_gender_retention_rate(df_cleaned)\n",
    "\n",
    "print (df_cleaned['ret_rate_female'].mean())\n",
    "print (df_cleaned['ret_rate_male'].mean())"
   ]
  },
  {
   "cell_type": "markdown",
   "metadata": {
    "cell_id": "e39d995e386a43f1b572d09403fd19bd",
    "deepnote_cell_type": "text-cell-h2",
    "formattedRanges": [
     {
      "fromCodePoint": 0,
      "marks": {
       "color": "#000000"
      },
      "toCodePoint": 45,
      "type": "marks"
     }
    ]
   },
   "source": [
    "## Step 2: Check assumption_normal distribution "
   ]
  },
  {
   "cell_type": "code",
   "execution_count": 23,
   "metadata": {
    "cell_id": "904d1546be444a039f5b48d6944c8c77",
    "deepnote_cell_type": "code",
    "deepnote_to_be_reexecuted": false,
    "execution_millis": 31,
    "execution_start": 1708037720196,
    "source_hash": null
   },
   "outputs": [
    {
     "data": {
      "text/plain": [
       "\"\\n# Distribution of female retention rates\\nplt.hist(df_cleaned['ret_rate_female'].dropna(),label='Female Retention Rates')\\nplt.title('Histogram of Female Retention Rates')\\nplt.xlabel('Retention Rate (%)')\\nplt.ylabel('Frequency')\\nplt.show()\\n\\n# Distribution of  male retention rates\\nplt.hist(df_cleaned['ret_rate_male'].dropna(),label='Male Retention Rates')\\nplt.title('Histogram of Male Retention Rates')\\nplt.xlabel('Retention Rate (%)')\\nplt.ylabel('Frequency')\\nplt.show()\\n\\n\""
      ]
     },
     "execution_count": 23,
     "metadata": {},
     "output_type": "execute_result"
    }
   ],
   "source": [
    "# The charts show roughly normal distribution. Commented out to save graphic space. \n",
    "'''\n",
    "# Distribution of female retention rates\n",
    "plt.hist(df_cleaned['ret_rate_female'].dropna(),label='Female Retention Rates')\n",
    "plt.title('Histogram of Female Retention Rates')\n",
    "plt.xlabel('Retention Rate (%)')\n",
    "plt.ylabel('Frequency')\n",
    "plt.show()\n",
    "\n",
    "# Distribution of  male retention rates\n",
    "plt.hist(df_cleaned['ret_rate_male'].dropna(),label='Male Retention Rates')\n",
    "plt.title('Histogram of Male Retention Rates')\n",
    "plt.xlabel('Retention Rate (%)')\n",
    "plt.ylabel('Frequency')\n",
    "plt.show()\n",
    "\n",
    "'''"
   ]
  },
  {
   "cell_type": "markdown",
   "metadata": {
    "cell_id": "e992a59c258041feb439d1aa7dc6bdd0",
    "deepnote_app_block_visible": false,
    "deepnote_cell_type": "text-cell-p",
    "formattedRanges": [
     {
      "fromCodePoint": 0,
      "marks": {
       "bold": true
      },
      "toCodePoint": 92,
      "type": "marks"
     }
    ],
    "is_collapsed": false
   },
   "source": [
    "--> The data have roughly normal distribution, although there is a longer tail on the right."
   ]
  },
  {
   "cell_type": "markdown",
   "metadata": {
    "cell_id": "998db9507f3546d295b4b7e97d6d1b66",
    "deepnote_app_block_visible": false,
    "deepnote_cell_type": "text-cell-h2",
    "formattedRanges": [
     {
      "fromCodePoint": 0,
      "marks": {
       "color": "#000000"
      },
      "toCodePoint": 39,
      "type": "marks"
     }
    ],
    "is_collapsed": false
   },
   "source": [
    "## Step 2: Check assumption_equal variance"
   ]
  },
  {
   "cell_type": "code",
   "execution_count": 24,
   "metadata": {
    "cell_id": "c68b3790653b44539d04afad188e4361",
    "deepnote_cell_type": "code",
    "deepnote_to_be_reexecuted": false,
    "execution_millis": 29,
    "execution_start": 1708037720198,
    "source_hash": null
   },
   "outputs": [
    {
     "name": "stdout",
     "output_type": "stream",
     "text": [
      "Levene’s test statistic: 112.72661291662762\n",
      "p-value: 2.577312193585689e-26\n"
     ]
    }
   ],
   "source": [
    "stat, p = levene(df_cleaned['ret_rate_female'].dropna(), df_cleaned['ret_rate_male'].dropna())\n",
    "\n",
    "print('Levene’s test statistic:', stat)\n",
    "print('p-value:', p)"
   ]
  },
  {
   "cell_type": "markdown",
   "metadata": {
    "cell_id": "ea00c8629c8f45bbb14444a757d8bd8c",
    "deepnote_app_block_visible": false,
    "deepnote_cell_type": "text-cell-h2",
    "formattedRanges": [
     {
      "fromCodePoint": 0,
      "marks": {
       "color": "#000000"
      },
      "toCodePoint": 32,
      "type": "marks"
     }
    ],
    "is_collapsed": false
   },
   "source": [
    "## Step 3: Run Mann Whitney U test "
   ]
  },
  {
   "cell_type": "markdown",
   "metadata": {
    "cell_id": "e1aaa1cb670e449390ecd39aeb04d70f",
    "deepnote_app_block_visible": false,
    "deepnote_cell_type": "text-cell-p",
    "formattedRanges": [],
    "is_collapsed": false
   },
   "source": [
    "Because we don't have equal variance, run Mann u test - the non-parametric version of standard t test."
   ]
  },
  {
   "cell_type": "code",
   "execution_count": 25,
   "metadata": {
    "cell_id": "acd396eb63e440499ede767dd17b42e4",
    "deepnote_cell_type": "code",
    "deepnote_to_be_reexecuted": false,
    "execution_millis": 70,
    "execution_start": 1708037720208,
    "source_hash": null
   },
   "outputs": [
    {
     "name": "stdout",
     "output_type": "stream",
     "text": [
      "U statistic: 717720726.5\n",
      "P-value: 5.864798031661489e-221\n"
     ]
    }
   ],
   "source": [
    "stat, p = mannwhitneyu(df_cleaned['ret_rate_female'].dropna(), df_cleaned['ret_rate_male'].dropna())\n",
    "print(f\"U statistic: {stat}\")\n",
    "print(f\"P-value: {p}\")"
   ]
  },
  {
   "cell_type": "markdown",
   "metadata": {
    "cell_id": "7fe2706743804aa68043d815e673447e",
    "deepnote_cell_type": "text-cell-h1",
    "formattedRanges": [
     {
      "fromCodePoint": 0,
      "marks": {
       "color": "#000000"
      },
      "toCodePoint": 19,
      "type": "marks"
     }
    ]
   },
   "source": [
    "# Race (7 categories)"
   ]
  },
  {
   "cell_type": "code",
   "execution_count": 26,
   "metadata": {
    "cell_id": "321cbbe0a6bb48c4b38c5c8cf899021e",
    "deepnote_cell_type": "code",
    "deepnote_to_be_reexecuted": false,
    "execution_millis": 21,
    "execution_start": 1708037720282,
    "source_hash": null
   },
   "outputs": [],
   "source": [
    "races = ['AM', 'AS', 'BL', 'HP', 'HI', 'TR', 'WH']"
   ]
  },
  {
   "cell_type": "markdown",
   "metadata": {
    "cell_id": "06eacf9c337b4a9e97f0180a18bbf5ce",
    "deepnote_app_block_visible": false,
    "deepnote_cell_type": "text-cell-h2",
    "formattedRanges": [
     {
      "fromCodePoint": 0,
      "marks": {
       "color": "#000000"
      },
      "toCodePoint": 50,
      "type": "marks"
     }
    ],
    "is_collapsed": false
   },
   "source": [
    "## Step 1: Calculate retention rate for racial groups"
   ]
  },
  {
   "cell_type": "code",
   "execution_count": 27,
   "metadata": {
    "cell_id": "db8da0484711422c94bc389067f1872c",
    "deepnote_cell_type": "code",
    "deepnote_to_be_reexecuted": false,
    "execution_millis": 157,
    "execution_start": 1708037720331,
    "source_hash": null
   },
   "outputs": [
    {
     "name": "stdout",
     "output_type": "stream",
     "text": [
      "AM: 3.66%\n",
      "AS: 1.62%\n",
      "BL: 3.85%\n",
      "HP: 2.71%\n",
      "HI: 3.47%\n",
      "TR: 3.25%\n",
      "WH: 2.97%\n"
     ]
    }
   ],
   "source": [
    "# Call function that calculates race retention rates \n",
    "df_cleaned=calculate_race_retention_rate(df_cleaned)\n",
    "\n",
    "# Print the mean retentio rate for each race (just to confirm)\n",
    "for race in races:\n",
    "    print(f\"{race}: {df_cleaned[f'ret_rate_{race}'].mean():.2f}%\")"
   ]
  },
  {
   "cell_type": "markdown",
   "metadata": {
    "cell_id": "421acd87b4c64caea6abe4eb983e37da",
    "deepnote_app_block_visible": false,
    "deepnote_cell_type": "text-cell-h2",
    "formattedRanges": [
     {
      "fromCodePoint": 0,
      "marks": {
       "color": "#000000"
      },
      "toCodePoint": 44,
      "type": "marks"
     }
    ],
    "is_collapsed": false
   },
   "source": [
    "## Step 2: Check assumption_normal distribution"
   ]
  },
  {
   "cell_type": "code",
   "execution_count": 28,
   "metadata": {
    "cell_id": "0679d828d2c948b188c3b10121e406b5",
    "deepnote_cell_type": "code",
    "deepnote_to_be_reexecuted": false,
    "execution_millis": 30,
    "execution_start": 1708037720496,
    "source_hash": null
   },
   "outputs": [
    {
     "data": {
      "text/plain": [
       "\"\\ndef plot_histogram(data, title, xlabel):\\n    plt.hist(data, bins=20)\\n    plt.title(title)\\n    plt.xlabel(xlabel)\\n    plt.ylabel('Frequency')\\n    plt.show()\\n\\nfor race in races:\\n    column_name = f'ret_rate_{race}'\\n    df_cleaned[column_name] = df_cleaned[column_name].replace([np.inf, -np.inf], np.nan)\\n    retention_rates = df_cleaned[column_name].dropna()\\n    \\n    plot_histogram(retention_rates, f'Retention Rates Distribution for {race}', 'Retention Rate (%)')\\n\\n\""
      ]
     },
     "execution_count": 28,
     "metadata": {},
     "output_type": "execute_result"
    }
   ],
   "source": [
    "# Graphics shows roughtly normal distribution. Commented out due to graphics taking a lot of space. \n",
    "\n",
    "'''\n",
    "def plot_histogram(data, title, xlabel):\n",
    "    plt.hist(data, bins=20)\n",
    "    plt.title(title)\n",
    "    plt.xlabel(xlabel)\n",
    "    plt.ylabel('Frequency')\n",
    "    plt.show()\n",
    "\n",
    "for race in races:\n",
    "    column_name = f'ret_rate_{race}'\n",
    "    df_cleaned[column_name] = df_cleaned[column_name].replace([np.inf, -np.inf], np.nan)\n",
    "    retention_rates = df_cleaned[column_name].dropna()\n",
    "    \n",
    "    plot_histogram(retention_rates, f'Retention Rates Distribution for {race}', 'Retention Rate (%)')\n",
    "\n",
    "'''"
   ]
  },
  {
   "cell_type": "markdown",
   "metadata": {
    "cell_id": "ce5a4b0a114d47e99d32aa69a0b0f138",
    "deepnote_cell_type": "text-cell-p",
    "formattedRanges": [
     {
      "fromCodePoint": 0,
      "marks": {
       "bold": true,
       "color": "#000000"
      },
      "toCodePoint": 68,
      "type": "marks"
     }
    ]
   },
   "source": [
    "--> The data is roughly normally distributed, although not perfect. "
   ]
  },
  {
   "cell_type": "markdown",
   "metadata": {
    "cell_id": "41ec9caeeaf24be1a430e812c90fc63c",
    "deepnote_app_block_visible": false,
    "deepnote_cell_type": "text-cell-h2",
    "formattedRanges": [
     {
      "fromCodePoint": 0,
      "marks": {
       "color": "#000000"
      },
      "toCodePoint": 41,
      "type": "marks"
     }
    ],
    "is_collapsed": false
   },
   "source": [
    "## Step 2: Check assumption_equal variances "
   ]
  },
  {
   "cell_type": "code",
   "execution_count": 29,
   "metadata": {
    "cell_id": "7b248d87311e449aaeca051ea9b39acc",
    "deepnote_cell_type": "code",
    "deepnote_to_be_reexecuted": false,
    "execution_millis": 27,
    "execution_start": 1708037720500,
    "source_hash": null
   },
   "outputs": [
    {
     "name": "stdout",
     "output_type": "stream",
     "text": [
      "Levene's test statistic: 148.89540386399136\n",
      "P-value: 2.4503042818742784e-189\n"
     ]
    }
   ],
   "source": [
    "# Extract retention rates for each race and add to a list\n",
    "retention_rates_by_race = []\n",
    "\n",
    "# Loop through each race \n",
    "for race in races:\n",
    "    retention_rates = df_cleaned[f'ret_rate_{race}'].dropna()\n",
    "    retention_rates_by_race.append(retention_rates)\n",
    "\n",
    "\n",
    "# Perform Levene's test\n",
    "stat, p_value = levene(*retention_rates_by_race) # unpack all items in the list with *\n",
    "\n",
    "print(f\"Levene's test statistic: {stat}\")\n",
    "print(f\"P-value: {p_value}\")"
   ]
  },
  {
   "cell_type": "markdown",
   "metadata": {
    "cell_id": "f32ac93720b84d37972eb649bcae107c",
    "deepnote_app_block_visible": false,
    "deepnote_cell_type": "text-cell-h2",
    "formattedRanges": [
     {
      "fromCodePoint": 0,
      "marks": {
       "color": "#000000"
      },
      "toCodePoint": 38,
      "type": "marks"
     }
    ],
    "is_collapsed": false
   },
   "source": [
    "## Step 3: Perform Kruskal-Wallis H test "
   ]
  },
  {
   "cell_type": "markdown",
   "metadata": {
    "cell_id": "806e9668d32d437cae87db0625b2f47a",
    "deepnote_app_block_visible": false,
    "deepnote_cell_type": "text-cell-p",
    "formattedRanges": [
     {
      "fromCodePoint": 0,
      "marks": {
       "color": "#000000"
      },
      "toCodePoint": 90,
      "type": "marks"
     }
    ],
    "is_collapsed": false
   },
   "source": [
    "Since we don't have equal variance, we do this test - the non-parametric version of ANOVA."
   ]
  },
  {
   "cell_type": "code",
   "execution_count": 30,
   "metadata": {
    "cell_id": "1eb3273499864469bb5bdd860cb9ee7f",
    "deepnote_cell_type": "code",
    "deepnote_to_be_reexecuted": false,
    "execution_millis": 61,
    "execution_start": 1708037720555,
    "source_hash": null
   },
   "outputs": [
    {
     "name": "stdout",
     "output_type": "stream",
     "text": [
      "Kruskal-Wallis H Test statistic: 34859.019484470096\n",
      "P-value: 0.0\n"
     ]
    }
   ],
   "source": [
    "from scipy.stats import kruskal\n",
    "\n",
    "stat, p = kruskal(*retention_rates_by_race)\n",
    "\n",
    "print(f\"Kruskal-Wallis H Test statistic: {stat}\")\n",
    "print(f\"P-value: {p}\")"
   ]
  },
  {
   "cell_type": "markdown",
   "metadata": {
    "cell_id": "c7083f229f82408d85e7259987c0d5f0",
    "deepnote_app_block_visible": false,
    "deepnote_cell_type": "text-cell-h3",
    "formattedRanges": [
     {
      "fromCodePoint": 0,
      "marks": {
       "color": "#000000"
      },
      "toCodePoint": 45,
      "type": "marks"
     }
    ],
    "is_collapsed": false
   },
   "source": [
    "### Conduct post hoc Dunn's test: compare MEDIAN "
   ]
  },
  {
   "cell_type": "markdown",
   "metadata": {
    "cell_id": "458ad90f2b2f4905bf3eddce96945acc",
    "deepnote_app_block_visible": false,
    "deepnote_cell_type": "text-cell-p",
    "formattedRanges": [
     {
      "fromCodePoint": 0,
      "marks": {
       "color": "#000000"
      },
      "toCodePoint": 91,
      "type": "marks"
     }
    ],
    "is_collapsed": false
   },
   "source": [
    "Since there is a significant difference, we do follow up tests to see which groups differ. "
   ]
  },
  {
   "cell_type": "code",
   "execution_count": 31,
   "metadata": {
    "cell_id": "d7127c2e01b0422885eb94f7b70ff6f9",
    "deepnote_cell_type": "code",
    "deepnote_to_be_reexecuted": false,
    "execution_millis": 53,
    "execution_start": 1708037720579,
    "source_hash": null
   },
   "outputs": [
    {
     "name": "stdout",
     "output_type": "stream",
     "text": [
      "AM: 0.00%\n",
      "AS: 0.00%\n",
      "BL: 0.00%\n",
      "HP: 0.00%\n",
      "HI: 0.52%\n",
      "TR: 0.00%\n",
      "WH: 0.83%\n"
     ]
    }
   ],
   "source": [
    "# For each race, calculate their median. Use 2 decimal places.\n",
    "for race in races:\n",
    "    print (f\"{race}: {df_cleaned[f'ret_rate_{race}'].median():.2f}%\") \n"
   ]
  },
  {
   "cell_type": "code",
   "execution_count": 32,
   "metadata": {
    "cell_id": "78f870bff6a0434997b6aa0e98ebf035",
    "deepnote_cell_type": "code",
    "deepnote_to_be_reexecuted": false,
    "execution_millis": 83,
    "execution_start": 1708037720631,
    "source_hash": null
   },
   "outputs": [
    {
     "name": "stdout",
     "output_type": "stream",
     "text": [
      "Dunn's test p-values to compare medians:\n",
      "              1             2             3             4              5    6   \n",
      "1  1.000000e+00  1.000000e+00  0.000000e+00  2.020958e-31   0.000000e+00  0.0  \\\n",
      "2  1.000000e+00  1.000000e+00  0.000000e+00  2.897803e-30   0.000000e+00  0.0   \n",
      "3  0.000000e+00  0.000000e+00  1.000000e+00  0.000000e+00   1.058164e-93  0.0   \n",
      "4  2.020958e-31  2.897803e-30  0.000000e+00  1.000000e+00   0.000000e+00  0.0   \n",
      "5  0.000000e+00  0.000000e+00  1.058164e-93  0.000000e+00   1.000000e+00  0.0   \n",
      "6  0.000000e+00  0.000000e+00  0.000000e+00  0.000000e+00   0.000000e+00  1.0   \n",
      "7  0.000000e+00  0.000000e+00  0.000000e+00  0.000000e+00  6.732532e-180  0.0   \n",
      "\n",
      "               7  \n",
      "1   0.000000e+00  \n",
      "2   0.000000e+00  \n",
      "3   0.000000e+00  \n",
      "4   0.000000e+00  \n",
      "5  6.732532e-180  \n",
      "6   0.000000e+00  \n",
      "7   1.000000e+00  \n"
     ]
    }
   ],
   "source": [
    "# Conduct Dunn's test \n",
    "data = [df_cleaned[f'ret_rate_{race}'].dropna() for race in races]\n",
    "\n",
    "# Conduct Dunn's test for pairwise comparisons\n",
    "p_values = sp.posthoc_dunn(data, p_adjust='bonferroni')\n",
    "\n",
    "print(\"Dunn's test p-values to compare medians:\")\n",
    "print(p_values)\n"
   ]
  },
  {
   "cell_type": "markdown",
   "metadata": {
    "cell_id": "be2d6307823f406bbbb7d1eccc4bcc3f",
    "deepnote_cell_type": "text-cell-p",
    "formattedRanges": [
     {
      "fromCodePoint": 0,
      "marks": {
       "bold": true
      },
      "toCodePoint": 102,
      "type": "marks"
     }
    ]
   },
   "source": [
    "-> Some racial groups' MEDIAN retention rates differ from each other  (p<.05), but some don't (p>.05)."
   ]
  },
  {
   "cell_type": "markdown",
   "metadata": {
    "cell_id": "bb37c655146c47eeb1f3698daaf4b62c",
    "deepnote_cell_type": "text-cell-h1",
    "formattedRanges": [
     {
      "fromCodePoint": 0,
      "marks": {
       "color": "#000000"
      },
      "toCodePoint": 33,
      "type": "marks"
     }
    ]
   },
   "source": [
    "# Limited English Proficiency (LEP)"
   ]
  },
  {
   "cell_type": "code",
   "execution_count": 33,
   "metadata": {
    "cell_id": "9ed393fdf8044c3b88767c97397b7b3b",
    "deepnote_cell_type": "code",
    "deepnote_to_be_reexecuted": false,
    "execution_millis": 201,
    "execution_start": 1708037720721,
    "source_hash": null
   },
   "outputs": [],
   "source": [
    "\n",
    "# Filter for LEP (Limited English Proficiency) columns \n",
    "df_cleaned_lep = df_cleaned.filter(like='LEP')\n",
    "\n",
    "# Add school total retention to the filtered DataFrame\n",
    "df_cleaned_lep['SCH_TOT_RET'] = df_cleaned['SCH_TOT_RET']  # from df_cleaned earlier\n",
    "\n",
    "# Calcuate total male LEP students\n",
    "df_cleaned_lep_male = df_cleaned_lep.filter(like='M')\n",
    "df_cleaned_lep_male_total = df_cleaned_lep_male.sum(axis=1)\n",
    "\n",
    "# Calcuate total female LEP students\n",
    "df_cleaned_lep_female = df_cleaned_lep.filter(like='F')\n",
    "df_cleaned_lep_female_total = df_cleaned_lep_female.sum(axis=1)\n",
    "\n",
    "# Calculate total LEP students by summing up male and female totals\n",
    "df_cleaned_lep_total = df_cleaned_lep_male_total + df_cleaned_lep_female_total\n",
    "df_cleaned_lep['LEP_TOTAL'] = df_cleaned_lep_total\n",
    "\n",
    "# Drop rows with NA values \n",
    "df_cleaned_lep = df_cleaned_lep.dropna(subset=['LEP_TOTAL', 'SCH_TOT_RET'])\n"
   ]
  },
  {
   "cell_type": "code",
   "execution_count": 34,
   "metadata": {
    "cell_id": "b61aadb7e9194565b36795e91455416b",
    "deepnote_cell_type": "code",
    "deepnote_to_be_reexecuted": false,
    "execution_millis": 91,
    "execution_start": 1708037720845,
    "source_hash": null
   },
   "outputs": [
    {
     "data": {
      "text/plain": [
       "(3.0625863145987386,\n",
       " 10.342875899961307,\n",
       " 0.5397470937544588,\n",
       " 0.0,\n",
       " 0.014029644382435008)"
      ]
     },
     "execution_count": 34,
     "metadata": {},
     "output_type": "execute_result"
    }
   ],
   "source": [
    "# Set up data for x and y axis\n",
    "x = df_cleaned_lep['LEP_TOTAL']  \n",
    "y = df_cleaned_lep['SCH_TOT_RET']  \n",
    "\n",
    "# Perform regression \n",
    "slope, intercept, r_value, p_value, std_err = stats.linregress(x, y)\n",
    "\n",
    "# Print regression results including r-squared (effect size)\n",
    "(slope, intercept, r_value**2, p_value, std_err)  \n"
   ]
  },
  {
   "cell_type": "markdown",
   "metadata": {
    "created_in_deepnote_cell": true,
    "deepnote_cell_type": "markdown"
   },
   "source": [
    "<a style='text-decoration:none;line-height:16px;display:flex;color:#5B5B62;padding:10px;justify-content:end;' href='https://deepnote.com?utm_source=created-in-deepnote-cell&projectId=edfebf59-8cf0-4b7e-b1cf-d80b21ef0191' target=\"_blank\">\n",
    "<img alt='Created in deepnote.com' style='display:inline;max-height:16px;margin:0px;margin-right:7.5px;' src='data:image/svg+xml;base64,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' > </img>\n",
    "Created in <span style='font-weight:600;margin-left:4px;'>Deepnote</span></a>"
   ]
  }
 ],
 "metadata": {
  "deepnote_execution_queue": [],
  "deepnote_notebook_id": "ec1bb64d9522429cb5b118fa899a9edf",
  "kernelspec": {
   "display_name": "Python 3 (ipykernel)",
   "language": "python",
   "name": "python3"
  },
  "language_info": {
   "codemirror_mode": {
    "name": "ipython",
    "version": 3
   },
   "file_extension": ".py",
   "mimetype": "text/x-python",
   "name": "python",
   "nbconvert_exporter": "python",
   "pygments_lexer": "ipython3",
   "version": "3.10.11"
  }
 },
 "nbformat": 4,
 "nbformat_minor": 4
}
